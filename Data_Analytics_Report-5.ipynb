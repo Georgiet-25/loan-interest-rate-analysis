{
  "nbformat": 4,
  "nbformat_minor": 0,
  "metadata": {
    "colab": {
      "provenance": []
    },
    "kernelspec": {
      "name": "python3",
      "display_name": "Python 3"
    },
    "language_info": {
      "name": "python"
    }
  },
  "cells": [
    {
      "cell_type": "markdown",
      "source": [
        "## Introduction\n",
        "\n",
        "\n",
        "This project examines the determinants of interest rates in the consumer credit market using data from Lending Club, a leading peer-to-peer lending platform. The dataset consists of 10,000 loan records, each representing a distinct borrower and encompassing a wide range of variables, including verified income status, debt-to-income ratios, credit utilization, employment history, loan characteristics, and credit performance metrics. The objective of this analysis is to identify the key borrower and loan attributes that influence the interest rates assigned to individual loans. Through systematic exploration of the data, this project seeks to contribute to a deeper understanding of credit risk assessment and pricing mechanisms in the context of consumer lending."
      ],
      "metadata": {
        "id": "aBbCSbTdRAK2"
      }
    },
    {
      "cell_type": "code",
      "source": [],
      "metadata": {
        "id": "ON7WLD1b_BCa"
      },
      "execution_count": null,
      "outputs": []
    },
    {
      "cell_type": "markdown",
      "source": [
        "## 1. Part A: Data Preparation\n",
        "\n",
        "### 1.1 Required Variables"
      ],
      "metadata": {
        "id": "hKuTnGDhRj-1"
      }
    },
    {
      "cell_type": "code",
      "execution_count": null,
      "metadata": {
        "id": "pnX-cja_Q3IE",
        "colab": {
          "base_uri": "https://localhost:8080/"
        },
        "outputId": "1a53e341-6c91-41d1-ecdb-c7b17ac90c43"
      },
      "outputs": [
        {
          "output_type": "stream",
          "name": "stdout",
          "text": [
            "Collecting stargazer\n",
            "  Downloading stargazer-0.0.7-py3-none-any.whl.metadata (6.3 kB)\n",
            "Downloading stargazer-0.0.7-py3-none-any.whl (15 kB)\n",
            "Installing collected packages: stargazer\n",
            "Successfully installed stargazer-0.0.7\n"
          ]
        }
      ],
      "source": [
        "import pandas as pd\n",
        "import numpy as np\n",
        "import matplotlib.pyplot as plt\n",
        "import seaborn as sns\n",
        "!pip install stargazer\n",
        "from stargazer.stargazer import Stargazer\n"
      ]
    },
    {
      "cell_type": "code",
      "source": [
        "df = pd.read_csv(\"/content/loans_dataset.csv\")\n",
        "df.head()"
      ],
      "metadata": {
        "colab": {
          "base_uri": "https://localhost:8080/",
          "height": 333
        },
        "id": "6tUWWDJsSC7Z",
        "outputId": "31ea9ab2-6237-45e7-d1a4-213fa6687ec7"
      },
      "execution_count": null,
      "outputs": [
        {
          "output_type": "execute_result",
          "data": {
            "text/plain": [
              "                 emp_title  emp_length state homeownership  annual_income  \\\n",
              "0  global config engineer          3.0    NJ      MORTGAGE        90000.0   \n",
              "1   warehouse office clerk        10.0    HI          RENT        40000.0   \n",
              "2                 assembly         3.0    WI          RENT        40000.0   \n",
              "3         customer service         1.0    PA          RENT        30000.0   \n",
              "4     security supervisor         10.0    CA          RENT        35000.0   \n",
              "\n",
              "   verified_income  debt_to_income  annual_income_joint  \\\n",
              "0         Verified           18.01                  NaN   \n",
              "1     Not Verified            5.04                  NaN   \n",
              "2  Source Verified           21.15                  NaN   \n",
              "3     Not Verified           10.16                  NaN   \n",
              "4         Verified           57.96              57000.0   \n",
              "\n",
              "  verification_income_joint  debt_to_income_joint  ...  sub_grade  \\\n",
              "0                       NaN                   NaN  ...         C3   \n",
              "1                       NaN                   NaN  ...         C1   \n",
              "2                       NaN                   NaN  ...         D1   \n",
              "3                       NaN                   NaN  ...         A3   \n",
              "4                  Verified                 37.66  ...         C3   \n",
              "\n",
              "   issue_month  loan_status  initial_listing_status  disbursement_method  \\\n",
              "0     Mar-2018      Current                   whole                 Cash   \n",
              "1     Feb-2018      Current                   whole                 Cash   \n",
              "2     Feb-2018      Current              fractional                 Cash   \n",
              "3     Jan-2018      Current                   whole                 Cash   \n",
              "4     Mar-2018      Current                   whole                 Cash   \n",
              "\n",
              "    balance  paid_total  paid_principal  paid_interest  paid_late_fees  \n",
              "0  27015.86     1999.33          984.14        1015.19             0.0  \n",
              "1   4651.37      499.12          348.63         150.49             0.0  \n",
              "2   1824.63      281.80          175.37         106.43             0.0  \n",
              "3  18853.26     3312.89         2746.74         566.15             0.0  \n",
              "4  21430.15     2324.65         1569.85         754.80             0.0  \n",
              "\n",
              "[5 rows x 55 columns]"
            ],
            "text/html": [
              "\n",
              "  <div id=\"df-1e2f5e03-b86e-4043-8465-bbd2b466e14c\" class=\"colab-df-container\">\n",
              "    <div>\n",
              "<style scoped>\n",
              "    .dataframe tbody tr th:only-of-type {\n",
              "        vertical-align: middle;\n",
              "    }\n",
              "\n",
              "    .dataframe tbody tr th {\n",
              "        vertical-align: top;\n",
              "    }\n",
              "\n",
              "    .dataframe thead th {\n",
              "        text-align: right;\n",
              "    }\n",
              "</style>\n",
              "<table border=\"1\" class=\"dataframe\">\n",
              "  <thead>\n",
              "    <tr style=\"text-align: right;\">\n",
              "      <th></th>\n",
              "      <th>emp_title</th>\n",
              "      <th>emp_length</th>\n",
              "      <th>state</th>\n",
              "      <th>homeownership</th>\n",
              "      <th>annual_income</th>\n",
              "      <th>verified_income</th>\n",
              "      <th>debt_to_income</th>\n",
              "      <th>annual_income_joint</th>\n",
              "      <th>verification_income_joint</th>\n",
              "      <th>debt_to_income_joint</th>\n",
              "      <th>...</th>\n",
              "      <th>sub_grade</th>\n",
              "      <th>issue_month</th>\n",
              "      <th>loan_status</th>\n",
              "      <th>initial_listing_status</th>\n",
              "      <th>disbursement_method</th>\n",
              "      <th>balance</th>\n",
              "      <th>paid_total</th>\n",
              "      <th>paid_principal</th>\n",
              "      <th>paid_interest</th>\n",
              "      <th>paid_late_fees</th>\n",
              "    </tr>\n",
              "  </thead>\n",
              "  <tbody>\n",
              "    <tr>\n",
              "      <th>0</th>\n",
              "      <td>global config engineer</td>\n",
              "      <td>3.0</td>\n",
              "      <td>NJ</td>\n",
              "      <td>MORTGAGE</td>\n",
              "      <td>90000.0</td>\n",
              "      <td>Verified</td>\n",
              "      <td>18.01</td>\n",
              "      <td>NaN</td>\n",
              "      <td>NaN</td>\n",
              "      <td>NaN</td>\n",
              "      <td>...</td>\n",
              "      <td>C3</td>\n",
              "      <td>Mar-2018</td>\n",
              "      <td>Current</td>\n",
              "      <td>whole</td>\n",
              "      <td>Cash</td>\n",
              "      <td>27015.86</td>\n",
              "      <td>1999.33</td>\n",
              "      <td>984.14</td>\n",
              "      <td>1015.19</td>\n",
              "      <td>0.0</td>\n",
              "    </tr>\n",
              "    <tr>\n",
              "      <th>1</th>\n",
              "      <td>warehouse office clerk</td>\n",
              "      <td>10.0</td>\n",
              "      <td>HI</td>\n",
              "      <td>RENT</td>\n",
              "      <td>40000.0</td>\n",
              "      <td>Not Verified</td>\n",
              "      <td>5.04</td>\n",
              "      <td>NaN</td>\n",
              "      <td>NaN</td>\n",
              "      <td>NaN</td>\n",
              "      <td>...</td>\n",
              "      <td>C1</td>\n",
              "      <td>Feb-2018</td>\n",
              "      <td>Current</td>\n",
              "      <td>whole</td>\n",
              "      <td>Cash</td>\n",
              "      <td>4651.37</td>\n",
              "      <td>499.12</td>\n",
              "      <td>348.63</td>\n",
              "      <td>150.49</td>\n",
              "      <td>0.0</td>\n",
              "    </tr>\n",
              "    <tr>\n",
              "      <th>2</th>\n",
              "      <td>assembly</td>\n",
              "      <td>3.0</td>\n",
              "      <td>WI</td>\n",
              "      <td>RENT</td>\n",
              "      <td>40000.0</td>\n",
              "      <td>Source Verified</td>\n",
              "      <td>21.15</td>\n",
              "      <td>NaN</td>\n",
              "      <td>NaN</td>\n",
              "      <td>NaN</td>\n",
              "      <td>...</td>\n",
              "      <td>D1</td>\n",
              "      <td>Feb-2018</td>\n",
              "      <td>Current</td>\n",
              "      <td>fractional</td>\n",
              "      <td>Cash</td>\n",
              "      <td>1824.63</td>\n",
              "      <td>281.80</td>\n",
              "      <td>175.37</td>\n",
              "      <td>106.43</td>\n",
              "      <td>0.0</td>\n",
              "    </tr>\n",
              "    <tr>\n",
              "      <th>3</th>\n",
              "      <td>customer service</td>\n",
              "      <td>1.0</td>\n",
              "      <td>PA</td>\n",
              "      <td>RENT</td>\n",
              "      <td>30000.0</td>\n",
              "      <td>Not Verified</td>\n",
              "      <td>10.16</td>\n",
              "      <td>NaN</td>\n",
              "      <td>NaN</td>\n",
              "      <td>NaN</td>\n",
              "      <td>...</td>\n",
              "      <td>A3</td>\n",
              "      <td>Jan-2018</td>\n",
              "      <td>Current</td>\n",
              "      <td>whole</td>\n",
              "      <td>Cash</td>\n",
              "      <td>18853.26</td>\n",
              "      <td>3312.89</td>\n",
              "      <td>2746.74</td>\n",
              "      <td>566.15</td>\n",
              "      <td>0.0</td>\n",
              "    </tr>\n",
              "    <tr>\n",
              "      <th>4</th>\n",
              "      <td>security supervisor</td>\n",
              "      <td>10.0</td>\n",
              "      <td>CA</td>\n",
              "      <td>RENT</td>\n",
              "      <td>35000.0</td>\n",
              "      <td>Verified</td>\n",
              "      <td>57.96</td>\n",
              "      <td>57000.0</td>\n",
              "      <td>Verified</td>\n",
              "      <td>37.66</td>\n",
              "      <td>...</td>\n",
              "      <td>C3</td>\n",
              "      <td>Mar-2018</td>\n",
              "      <td>Current</td>\n",
              "      <td>whole</td>\n",
              "      <td>Cash</td>\n",
              "      <td>21430.15</td>\n",
              "      <td>2324.65</td>\n",
              "      <td>1569.85</td>\n",
              "      <td>754.80</td>\n",
              "      <td>0.0</td>\n",
              "    </tr>\n",
              "  </tbody>\n",
              "</table>\n",
              "<p>5 rows × 55 columns</p>\n",
              "</div>\n",
              "    <div class=\"colab-df-buttons\">\n",
              "\n",
              "  <div class=\"colab-df-container\">\n",
              "    <button class=\"colab-df-convert\" onclick=\"convertToInteractive('df-1e2f5e03-b86e-4043-8465-bbd2b466e14c')\"\n",
              "            title=\"Convert this dataframe to an interactive table.\"\n",
              "            style=\"display:none;\">\n",
              "\n",
              "  <svg xmlns=\"http://www.w3.org/2000/svg\" height=\"24px\" viewBox=\"0 -960 960 960\">\n",
              "    <path d=\"M120-120v-720h720v720H120Zm60-500h600v-160H180v160Zm220 220h160v-160H400v160Zm0 220h160v-160H400v160ZM180-400h160v-160H180v160Zm440 0h160v-160H620v160ZM180-180h160v-160H180v160Zm440 0h160v-160H620v160Z\"/>\n",
              "  </svg>\n",
              "    </button>\n",
              "\n",
              "  <style>\n",
              "    .colab-df-container {\n",
              "      display:flex;\n",
              "      gap: 12px;\n",
              "    }\n",
              "\n",
              "    .colab-df-convert {\n",
              "      background-color: #E8F0FE;\n",
              "      border: none;\n",
              "      border-radius: 50%;\n",
              "      cursor: pointer;\n",
              "      display: none;\n",
              "      fill: #1967D2;\n",
              "      height: 32px;\n",
              "      padding: 0 0 0 0;\n",
              "      width: 32px;\n",
              "    }\n",
              "\n",
              "    .colab-df-convert:hover {\n",
              "      background-color: #E2EBFA;\n",
              "      box-shadow: 0px 1px 2px rgba(60, 64, 67, 0.3), 0px 1px 3px 1px rgba(60, 64, 67, 0.15);\n",
              "      fill: #174EA6;\n",
              "    }\n",
              "\n",
              "    .colab-df-buttons div {\n",
              "      margin-bottom: 4px;\n",
              "    }\n",
              "\n",
              "    [theme=dark] .colab-df-convert {\n",
              "      background-color: #3B4455;\n",
              "      fill: #D2E3FC;\n",
              "    }\n",
              "\n",
              "    [theme=dark] .colab-df-convert:hover {\n",
              "      background-color: #434B5C;\n",
              "      box-shadow: 0px 1px 3px 1px rgba(0, 0, 0, 0.15);\n",
              "      filter: drop-shadow(0px 1px 2px rgba(0, 0, 0, 0.3));\n",
              "      fill: #FFFFFF;\n",
              "    }\n",
              "  </style>\n",
              "\n",
              "    <script>\n",
              "      const buttonEl =\n",
              "        document.querySelector('#df-1e2f5e03-b86e-4043-8465-bbd2b466e14c button.colab-df-convert');\n",
              "      buttonEl.style.display =\n",
              "        google.colab.kernel.accessAllowed ? 'block' : 'none';\n",
              "\n",
              "      async function convertToInteractive(key) {\n",
              "        const element = document.querySelector('#df-1e2f5e03-b86e-4043-8465-bbd2b466e14c');\n",
              "        const dataTable =\n",
              "          await google.colab.kernel.invokeFunction('convertToInteractive',\n",
              "                                                    [key], {});\n",
              "        if (!dataTable) return;\n",
              "\n",
              "        const docLinkHtml = 'Like what you see? Visit the ' +\n",
              "          '<a target=\"_blank\" href=https://colab.research.google.com/notebooks/data_table.ipynb>data table notebook</a>'\n",
              "          + ' to learn more about interactive tables.';\n",
              "        element.innerHTML = '';\n",
              "        dataTable['output_type'] = 'display_data';\n",
              "        await google.colab.output.renderOutput(dataTable, element);\n",
              "        const docLink = document.createElement('div');\n",
              "        docLink.innerHTML = docLinkHtml;\n",
              "        element.appendChild(docLink);\n",
              "      }\n",
              "    </script>\n",
              "  </div>\n",
              "\n",
              "\n",
              "    <div id=\"df-59aafc43-0c3c-4449-882f-fbc38a1d9f0f\">\n",
              "      <button class=\"colab-df-quickchart\" onclick=\"quickchart('df-59aafc43-0c3c-4449-882f-fbc38a1d9f0f')\"\n",
              "                title=\"Suggest charts\"\n",
              "                style=\"display:none;\">\n",
              "\n",
              "<svg xmlns=\"http://www.w3.org/2000/svg\" height=\"24px\"viewBox=\"0 0 24 24\"\n",
              "     width=\"24px\">\n",
              "    <g>\n",
              "        <path d=\"M19 3H5c-1.1 0-2 .9-2 2v14c0 1.1.9 2 2 2h14c1.1 0 2-.9 2-2V5c0-1.1-.9-2-2-2zM9 17H7v-7h2v7zm4 0h-2V7h2v10zm4 0h-2v-4h2v4z\"/>\n",
              "    </g>\n",
              "</svg>\n",
              "      </button>\n",
              "\n",
              "<style>\n",
              "  .colab-df-quickchart {\n",
              "      --bg-color: #E8F0FE;\n",
              "      --fill-color: #1967D2;\n",
              "      --hover-bg-color: #E2EBFA;\n",
              "      --hover-fill-color: #174EA6;\n",
              "      --disabled-fill-color: #AAA;\n",
              "      --disabled-bg-color: #DDD;\n",
              "  }\n",
              "\n",
              "  [theme=dark] .colab-df-quickchart {\n",
              "      --bg-color: #3B4455;\n",
              "      --fill-color: #D2E3FC;\n",
              "      --hover-bg-color: #434B5C;\n",
              "      --hover-fill-color: #FFFFFF;\n",
              "      --disabled-bg-color: #3B4455;\n",
              "      --disabled-fill-color: #666;\n",
              "  }\n",
              "\n",
              "  .colab-df-quickchart {\n",
              "    background-color: var(--bg-color);\n",
              "    border: none;\n",
              "    border-radius: 50%;\n",
              "    cursor: pointer;\n",
              "    display: none;\n",
              "    fill: var(--fill-color);\n",
              "    height: 32px;\n",
              "    padding: 0;\n",
              "    width: 32px;\n",
              "  }\n",
              "\n",
              "  .colab-df-quickchart:hover {\n",
              "    background-color: var(--hover-bg-color);\n",
              "    box-shadow: 0 1px 2px rgba(60, 64, 67, 0.3), 0 1px 3px 1px rgba(60, 64, 67, 0.15);\n",
              "    fill: var(--button-hover-fill-color);\n",
              "  }\n",
              "\n",
              "  .colab-df-quickchart-complete:disabled,\n",
              "  .colab-df-quickchart-complete:disabled:hover {\n",
              "    background-color: var(--disabled-bg-color);\n",
              "    fill: var(--disabled-fill-color);\n",
              "    box-shadow: none;\n",
              "  }\n",
              "\n",
              "  .colab-df-spinner {\n",
              "    border: 2px solid var(--fill-color);\n",
              "    border-color: transparent;\n",
              "    border-bottom-color: var(--fill-color);\n",
              "    animation:\n",
              "      spin 1s steps(1) infinite;\n",
              "  }\n",
              "\n",
              "  @keyframes spin {\n",
              "    0% {\n",
              "      border-color: transparent;\n",
              "      border-bottom-color: var(--fill-color);\n",
              "      border-left-color: var(--fill-color);\n",
              "    }\n",
              "    20% {\n",
              "      border-color: transparent;\n",
              "      border-left-color: var(--fill-color);\n",
              "      border-top-color: var(--fill-color);\n",
              "    }\n",
              "    30% {\n",
              "      border-color: transparent;\n",
              "      border-left-color: var(--fill-color);\n",
              "      border-top-color: var(--fill-color);\n",
              "      border-right-color: var(--fill-color);\n",
              "    }\n",
              "    40% {\n",
              "      border-color: transparent;\n",
              "      border-right-color: var(--fill-color);\n",
              "      border-top-color: var(--fill-color);\n",
              "    }\n",
              "    60% {\n",
              "      border-color: transparent;\n",
              "      border-right-color: var(--fill-color);\n",
              "    }\n",
              "    80% {\n",
              "      border-color: transparent;\n",
              "      border-right-color: var(--fill-color);\n",
              "      border-bottom-color: var(--fill-color);\n",
              "    }\n",
              "    90% {\n",
              "      border-color: transparent;\n",
              "      border-bottom-color: var(--fill-color);\n",
              "    }\n",
              "  }\n",
              "</style>\n",
              "\n",
              "      <script>\n",
              "        async function quickchart(key) {\n",
              "          const quickchartButtonEl =\n",
              "            document.querySelector('#' + key + ' button');\n",
              "          quickchartButtonEl.disabled = true;  // To prevent multiple clicks.\n",
              "          quickchartButtonEl.classList.add('colab-df-spinner');\n",
              "          try {\n",
              "            const charts = await google.colab.kernel.invokeFunction(\n",
              "                'suggestCharts', [key], {});\n",
              "          } catch (error) {\n",
              "            console.error('Error during call to suggestCharts:', error);\n",
              "          }\n",
              "          quickchartButtonEl.classList.remove('colab-df-spinner');\n",
              "          quickchartButtonEl.classList.add('colab-df-quickchart-complete');\n",
              "        }\n",
              "        (() => {\n",
              "          let quickchartButtonEl =\n",
              "            document.querySelector('#df-59aafc43-0c3c-4449-882f-fbc38a1d9f0f button');\n",
              "          quickchartButtonEl.style.display =\n",
              "            google.colab.kernel.accessAllowed ? 'block' : 'none';\n",
              "        })();\n",
              "      </script>\n",
              "    </div>\n",
              "\n",
              "    </div>\n",
              "  </div>\n"
            ],
            "application/vnd.google.colaboratory.intrinsic+json": {
              "type": "dataframe",
              "variable_name": "df"
            }
          },
          "metadata": {},
          "execution_count": 4
        }
      ]
    },
    {
      "cell_type": "markdown",
      "source": [
        "## A\n"
      ],
      "metadata": {
        "id": "b34nJwKRTftw"
      }
    },
    {
      "cell_type": "code",
      "source": [
        "retained_variables = [ \"interest_rate\", \"verified_income\", \"debt_to_income\",\n",
        "\"total_credit_utilized\", \"total_credit_limit\",\n",
        "\"public_record_bankrupt\", \"loan_purpose\", \"term\",\n",
        "\"inquiries_last_12m\", \"issue_month\", \"annual_income\",\n",
        "\"loan_amount\", \"grade\", \"emp_length\", \"homeownership\"]"
      ],
      "metadata": {
        "id": "rW2OX0tHUvpU"
      },
      "execution_count": null,
      "outputs": []
    },
    {
      "cell_type": "code",
      "source": [
        "clean_df = df[retained_variables]\n",
        "clean_df.head()"
      ],
      "metadata": {
        "id": "ZR5dXZ1oVfMK",
        "colab": {
          "base_uri": "https://localhost:8080/",
          "height": 221
        },
        "outputId": "0841ffce-a8fa-4a1d-ffa8-67ef12fe1185"
      },
      "execution_count": null,
      "outputs": [
        {
          "output_type": "execute_result",
          "data": {
            "text/plain": [
              "   interest_rate  verified_income  debt_to_income  total_credit_utilized  \\\n",
              "0          14.07         Verified           18.01                  38767   \n",
              "1          12.61     Not Verified            5.04                   4321   \n",
              "2          17.09  Source Verified           21.15                  16000   \n",
              "3           6.72     Not Verified           10.16                   4997   \n",
              "4          14.07         Verified           57.96                  52722   \n",
              "\n",
              "   total_credit_limit  public_record_bankrupt        loan_purpose  term  \\\n",
              "0               70795                       0              moving    60   \n",
              "1               28800                       1  debt_consolidation    36   \n",
              "2               24193                       0               other    36   \n",
              "3               25400                       0  debt_consolidation    36   \n",
              "4               69839                       0         credit_card    36   \n",
              "\n",
              "   inquiries_last_12m issue_month  annual_income  loan_amount grade  \\\n",
              "0                   6    Mar-2018        90000.0        28000     C   \n",
              "1                   1    Feb-2018        40000.0         5000     C   \n",
              "2                   4    Feb-2018        40000.0         2000     D   \n",
              "3                   0    Jan-2018        30000.0        21600     A   \n",
              "4                   7    Mar-2018        35000.0        23000     C   \n",
              "\n",
              "   emp_length homeownership  \n",
              "0         3.0      MORTGAGE  \n",
              "1        10.0          RENT  \n",
              "2         3.0          RENT  \n",
              "3         1.0          RENT  \n",
              "4        10.0          RENT  "
            ],
            "text/html": [
              "\n",
              "  <div id=\"df-d053db0c-ba5d-402a-b713-59e77b51d5e8\" class=\"colab-df-container\">\n",
              "    <div>\n",
              "<style scoped>\n",
              "    .dataframe tbody tr th:only-of-type {\n",
              "        vertical-align: middle;\n",
              "    }\n",
              "\n",
              "    .dataframe tbody tr th {\n",
              "        vertical-align: top;\n",
              "    }\n",
              "\n",
              "    .dataframe thead th {\n",
              "        text-align: right;\n",
              "    }\n",
              "</style>\n",
              "<table border=\"1\" class=\"dataframe\">\n",
              "  <thead>\n",
              "    <tr style=\"text-align: right;\">\n",
              "      <th></th>\n",
              "      <th>interest_rate</th>\n",
              "      <th>verified_income</th>\n",
              "      <th>debt_to_income</th>\n",
              "      <th>total_credit_utilized</th>\n",
              "      <th>total_credit_limit</th>\n",
              "      <th>public_record_bankrupt</th>\n",
              "      <th>loan_purpose</th>\n",
              "      <th>term</th>\n",
              "      <th>inquiries_last_12m</th>\n",
              "      <th>issue_month</th>\n",
              "      <th>annual_income</th>\n",
              "      <th>loan_amount</th>\n",
              "      <th>grade</th>\n",
              "      <th>emp_length</th>\n",
              "      <th>homeownership</th>\n",
              "    </tr>\n",
              "  </thead>\n",
              "  <tbody>\n",
              "    <tr>\n",
              "      <th>0</th>\n",
              "      <td>14.07</td>\n",
              "      <td>Verified</td>\n",
              "      <td>18.01</td>\n",
              "      <td>38767</td>\n",
              "      <td>70795</td>\n",
              "      <td>0</td>\n",
              "      <td>moving</td>\n",
              "      <td>60</td>\n",
              "      <td>6</td>\n",
              "      <td>Mar-2018</td>\n",
              "      <td>90000.0</td>\n",
              "      <td>28000</td>\n",
              "      <td>C</td>\n",
              "      <td>3.0</td>\n",
              "      <td>MORTGAGE</td>\n",
              "    </tr>\n",
              "    <tr>\n",
              "      <th>1</th>\n",
              "      <td>12.61</td>\n",
              "      <td>Not Verified</td>\n",
              "      <td>5.04</td>\n",
              "      <td>4321</td>\n",
              "      <td>28800</td>\n",
              "      <td>1</td>\n",
              "      <td>debt_consolidation</td>\n",
              "      <td>36</td>\n",
              "      <td>1</td>\n",
              "      <td>Feb-2018</td>\n",
              "      <td>40000.0</td>\n",
              "      <td>5000</td>\n",
              "      <td>C</td>\n",
              "      <td>10.0</td>\n",
              "      <td>RENT</td>\n",
              "    </tr>\n",
              "    <tr>\n",
              "      <th>2</th>\n",
              "      <td>17.09</td>\n",
              "      <td>Source Verified</td>\n",
              "      <td>21.15</td>\n",
              "      <td>16000</td>\n",
              "      <td>24193</td>\n",
              "      <td>0</td>\n",
              "      <td>other</td>\n",
              "      <td>36</td>\n",
              "      <td>4</td>\n",
              "      <td>Feb-2018</td>\n",
              "      <td>40000.0</td>\n",
              "      <td>2000</td>\n",
              "      <td>D</td>\n",
              "      <td>3.0</td>\n",
              "      <td>RENT</td>\n",
              "    </tr>\n",
              "    <tr>\n",
              "      <th>3</th>\n",
              "      <td>6.72</td>\n",
              "      <td>Not Verified</td>\n",
              "      <td>10.16</td>\n",
              "      <td>4997</td>\n",
              "      <td>25400</td>\n",
              "      <td>0</td>\n",
              "      <td>debt_consolidation</td>\n",
              "      <td>36</td>\n",
              "      <td>0</td>\n",
              "      <td>Jan-2018</td>\n",
              "      <td>30000.0</td>\n",
              "      <td>21600</td>\n",
              "      <td>A</td>\n",
              "      <td>1.0</td>\n",
              "      <td>RENT</td>\n",
              "    </tr>\n",
              "    <tr>\n",
              "      <th>4</th>\n",
              "      <td>14.07</td>\n",
              "      <td>Verified</td>\n",
              "      <td>57.96</td>\n",
              "      <td>52722</td>\n",
              "      <td>69839</td>\n",
              "      <td>0</td>\n",
              "      <td>credit_card</td>\n",
              "      <td>36</td>\n",
              "      <td>7</td>\n",
              "      <td>Mar-2018</td>\n",
              "      <td>35000.0</td>\n",
              "      <td>23000</td>\n",
              "      <td>C</td>\n",
              "      <td>10.0</td>\n",
              "      <td>RENT</td>\n",
              "    </tr>\n",
              "  </tbody>\n",
              "</table>\n",
              "</div>\n",
              "    <div class=\"colab-df-buttons\">\n",
              "\n",
              "  <div class=\"colab-df-container\">\n",
              "    <button class=\"colab-df-convert\" onclick=\"convertToInteractive('df-d053db0c-ba5d-402a-b713-59e77b51d5e8')\"\n",
              "            title=\"Convert this dataframe to an interactive table.\"\n",
              "            style=\"display:none;\">\n",
              "\n",
              "  <svg xmlns=\"http://www.w3.org/2000/svg\" height=\"24px\" viewBox=\"0 -960 960 960\">\n",
              "    <path d=\"M120-120v-720h720v720H120Zm60-500h600v-160H180v160Zm220 220h160v-160H400v160Zm0 220h160v-160H400v160ZM180-400h160v-160H180v160Zm440 0h160v-160H620v160ZM180-180h160v-160H180v160Zm440 0h160v-160H620v160Z\"/>\n",
              "  </svg>\n",
              "    </button>\n",
              "\n",
              "  <style>\n",
              "    .colab-df-container {\n",
              "      display:flex;\n",
              "      gap: 12px;\n",
              "    }\n",
              "\n",
              "    .colab-df-convert {\n",
              "      background-color: #E8F0FE;\n",
              "      border: none;\n",
              "      border-radius: 50%;\n",
              "      cursor: pointer;\n",
              "      display: none;\n",
              "      fill: #1967D2;\n",
              "      height: 32px;\n",
              "      padding: 0 0 0 0;\n",
              "      width: 32px;\n",
              "    }\n",
              "\n",
              "    .colab-df-convert:hover {\n",
              "      background-color: #E2EBFA;\n",
              "      box-shadow: 0px 1px 2px rgba(60, 64, 67, 0.3), 0px 1px 3px 1px rgba(60, 64, 67, 0.15);\n",
              "      fill: #174EA6;\n",
              "    }\n",
              "\n",
              "    .colab-df-buttons div {\n",
              "      margin-bottom: 4px;\n",
              "    }\n",
              "\n",
              "    [theme=dark] .colab-df-convert {\n",
              "      background-color: #3B4455;\n",
              "      fill: #D2E3FC;\n",
              "    }\n",
              "\n",
              "    [theme=dark] .colab-df-convert:hover {\n",
              "      background-color: #434B5C;\n",
              "      box-shadow: 0px 1px 3px 1px rgba(0, 0, 0, 0.15);\n",
              "      filter: drop-shadow(0px 1px 2px rgba(0, 0, 0, 0.3));\n",
              "      fill: #FFFFFF;\n",
              "    }\n",
              "  </style>\n",
              "\n",
              "    <script>\n",
              "      const buttonEl =\n",
              "        document.querySelector('#df-d053db0c-ba5d-402a-b713-59e77b51d5e8 button.colab-df-convert');\n",
              "      buttonEl.style.display =\n",
              "        google.colab.kernel.accessAllowed ? 'block' : 'none';\n",
              "\n",
              "      async function convertToInteractive(key) {\n",
              "        const element = document.querySelector('#df-d053db0c-ba5d-402a-b713-59e77b51d5e8');\n",
              "        const dataTable =\n",
              "          await google.colab.kernel.invokeFunction('convertToInteractive',\n",
              "                                                    [key], {});\n",
              "        if (!dataTable) return;\n",
              "\n",
              "        const docLinkHtml = 'Like what you see? Visit the ' +\n",
              "          '<a target=\"_blank\" href=https://colab.research.google.com/notebooks/data_table.ipynb>data table notebook</a>'\n",
              "          + ' to learn more about interactive tables.';\n",
              "        element.innerHTML = '';\n",
              "        dataTable['output_type'] = 'display_data';\n",
              "        await google.colab.output.renderOutput(dataTable, element);\n",
              "        const docLink = document.createElement('div');\n",
              "        docLink.innerHTML = docLinkHtml;\n",
              "        element.appendChild(docLink);\n",
              "      }\n",
              "    </script>\n",
              "  </div>\n",
              "\n",
              "\n",
              "    <div id=\"df-ff3b9118-dec4-49e6-a200-bd50311885bb\">\n",
              "      <button class=\"colab-df-quickchart\" onclick=\"quickchart('df-ff3b9118-dec4-49e6-a200-bd50311885bb')\"\n",
              "                title=\"Suggest charts\"\n",
              "                style=\"display:none;\">\n",
              "\n",
              "<svg xmlns=\"http://www.w3.org/2000/svg\" height=\"24px\"viewBox=\"0 0 24 24\"\n",
              "     width=\"24px\">\n",
              "    <g>\n",
              "        <path d=\"M19 3H5c-1.1 0-2 .9-2 2v14c0 1.1.9 2 2 2h14c1.1 0 2-.9 2-2V5c0-1.1-.9-2-2-2zM9 17H7v-7h2v7zm4 0h-2V7h2v10zm4 0h-2v-4h2v4z\"/>\n",
              "    </g>\n",
              "</svg>\n",
              "      </button>\n",
              "\n",
              "<style>\n",
              "  .colab-df-quickchart {\n",
              "      --bg-color: #E8F0FE;\n",
              "      --fill-color: #1967D2;\n",
              "      --hover-bg-color: #E2EBFA;\n",
              "      --hover-fill-color: #174EA6;\n",
              "      --disabled-fill-color: #AAA;\n",
              "      --disabled-bg-color: #DDD;\n",
              "  }\n",
              "\n",
              "  [theme=dark] .colab-df-quickchart {\n",
              "      --bg-color: #3B4455;\n",
              "      --fill-color: #D2E3FC;\n",
              "      --hover-bg-color: #434B5C;\n",
              "      --hover-fill-color: #FFFFFF;\n",
              "      --disabled-bg-color: #3B4455;\n",
              "      --disabled-fill-color: #666;\n",
              "  }\n",
              "\n",
              "  .colab-df-quickchart {\n",
              "    background-color: var(--bg-color);\n",
              "    border: none;\n",
              "    border-radius: 50%;\n",
              "    cursor: pointer;\n",
              "    display: none;\n",
              "    fill: var(--fill-color);\n",
              "    height: 32px;\n",
              "    padding: 0;\n",
              "    width: 32px;\n",
              "  }\n",
              "\n",
              "  .colab-df-quickchart:hover {\n",
              "    background-color: var(--hover-bg-color);\n",
              "    box-shadow: 0 1px 2px rgba(60, 64, 67, 0.3), 0 1px 3px 1px rgba(60, 64, 67, 0.15);\n",
              "    fill: var(--button-hover-fill-color);\n",
              "  }\n",
              "\n",
              "  .colab-df-quickchart-complete:disabled,\n",
              "  .colab-df-quickchart-complete:disabled:hover {\n",
              "    background-color: var(--disabled-bg-color);\n",
              "    fill: var(--disabled-fill-color);\n",
              "    box-shadow: none;\n",
              "  }\n",
              "\n",
              "  .colab-df-spinner {\n",
              "    border: 2px solid var(--fill-color);\n",
              "    border-color: transparent;\n",
              "    border-bottom-color: var(--fill-color);\n",
              "    animation:\n",
              "      spin 1s steps(1) infinite;\n",
              "  }\n",
              "\n",
              "  @keyframes spin {\n",
              "    0% {\n",
              "      border-color: transparent;\n",
              "      border-bottom-color: var(--fill-color);\n",
              "      border-left-color: var(--fill-color);\n",
              "    }\n",
              "    20% {\n",
              "      border-color: transparent;\n",
              "      border-left-color: var(--fill-color);\n",
              "      border-top-color: var(--fill-color);\n",
              "    }\n",
              "    30% {\n",
              "      border-color: transparent;\n",
              "      border-left-color: var(--fill-color);\n",
              "      border-top-color: var(--fill-color);\n",
              "      border-right-color: var(--fill-color);\n",
              "    }\n",
              "    40% {\n",
              "      border-color: transparent;\n",
              "      border-right-color: var(--fill-color);\n",
              "      border-top-color: var(--fill-color);\n",
              "    }\n",
              "    60% {\n",
              "      border-color: transparent;\n",
              "      border-right-color: var(--fill-color);\n",
              "    }\n",
              "    80% {\n",
              "      border-color: transparent;\n",
              "      border-right-color: var(--fill-color);\n",
              "      border-bottom-color: var(--fill-color);\n",
              "    }\n",
              "    90% {\n",
              "      border-color: transparent;\n",
              "      border-bottom-color: var(--fill-color);\n",
              "    }\n",
              "  }\n",
              "</style>\n",
              "\n",
              "      <script>\n",
              "        async function quickchart(key) {\n",
              "          const quickchartButtonEl =\n",
              "            document.querySelector('#' + key + ' button');\n",
              "          quickchartButtonEl.disabled = true;  // To prevent multiple clicks.\n",
              "          quickchartButtonEl.classList.add('colab-df-spinner');\n",
              "          try {\n",
              "            const charts = await google.colab.kernel.invokeFunction(\n",
              "                'suggestCharts', [key], {});\n",
              "          } catch (error) {\n",
              "            console.error('Error during call to suggestCharts:', error);\n",
              "          }\n",
              "          quickchartButtonEl.classList.remove('colab-df-spinner');\n",
              "          quickchartButtonEl.classList.add('colab-df-quickchart-complete');\n",
              "        }\n",
              "        (() => {\n",
              "          let quickchartButtonEl =\n",
              "            document.querySelector('#df-ff3b9118-dec4-49e6-a200-bd50311885bb button');\n",
              "          quickchartButtonEl.style.display =\n",
              "            google.colab.kernel.accessAllowed ? 'block' : 'none';\n",
              "        })();\n",
              "      </script>\n",
              "    </div>\n",
              "\n",
              "    </div>\n",
              "  </div>\n"
            ],
            "application/vnd.google.colaboratory.intrinsic+json": {
              "type": "dataframe",
              "variable_name": "clean_df",
              "summary": "{\n  \"name\": \"clean_df\",\n  \"rows\": 10000,\n  \"fields\": [\n    {\n      \"column\": \"interest_rate\",\n      \"properties\": {\n        \"dtype\": \"number\",\n        \"std\": 5.001104881366526,\n        \"min\": 5.31,\n        \"max\": 30.94,\n        \"num_unique_values\": 58,\n        \"samples\": [\n          14.07,\n          11.99,\n          10.91\n        ],\n        \"semantic_type\": \"\",\n        \"description\": \"\"\n      }\n    },\n    {\n      \"column\": \"verified_income\",\n      \"properties\": {\n        \"dtype\": \"category\",\n        \"num_unique_values\": 3,\n        \"samples\": [\n          \"Verified\",\n          \"Not Verified\",\n          \"Source Verified\"\n        ],\n        \"semantic_type\": \"\",\n        \"description\": \"\"\n      }\n    },\n    {\n      \"column\": \"debt_to_income\",\n      \"properties\": {\n        \"dtype\": \"number\",\n        \"std\": 15.004851306313055,\n        \"min\": 0.0,\n        \"max\": 469.09,\n        \"num_unique_values\": 3673,\n        \"samples\": [\n          20.95,\n          36.4,\n          5.66\n        ],\n        \"semantic_type\": \"\",\n        \"description\": \"\"\n      }\n    },\n    {\n      \"column\": \"total_credit_utilized\",\n      \"properties\": {\n        \"dtype\": \"number\",\n        \"std\": 53636,\n        \"min\": 0,\n        \"max\": 942456,\n        \"num_unique_values\": 9497,\n        \"samples\": [\n          180500,\n          15058,\n          17136\n        ],\n        \"semantic_type\": \"\",\n        \"description\": \"\"\n      }\n    },\n    {\n      \"column\": \"total_credit_limit\",\n      \"properties\": {\n        \"dtype\": \"number\",\n        \"std\": 187632,\n        \"min\": 0,\n        \"max\": 3386034,\n        \"num_unique_values\": 9119,\n        \"samples\": [\n          122598,\n          470538,\n          355333\n        ],\n        \"semantic_type\": \"\",\n        \"description\": \"\"\n      }\n    },\n    {\n      \"column\": \"public_record_bankrupt\",\n      \"properties\": {\n        \"dtype\": \"number\",\n        \"std\": 0,\n        \"min\": 0,\n        \"max\": 3,\n        \"num_unique_values\": 4,\n        \"samples\": [\n          1,\n          3,\n          0\n        ],\n        \"semantic_type\": \"\",\n        \"description\": \"\"\n      }\n    },\n    {\n      \"column\": \"loan_purpose\",\n      \"properties\": {\n        \"dtype\": \"category\",\n        \"num_unique_values\": 12,\n        \"samples\": [\n          \"vacation\",\n          \"major_purchase\",\n          \"moving\"\n        ],\n        \"semantic_type\": \"\",\n        \"description\": \"\"\n      }\n    },\n    {\n      \"column\": \"term\",\n      \"properties\": {\n        \"dtype\": \"number\",\n        \"std\": 11,\n        \"min\": 36,\n        \"max\": 60,\n        \"num_unique_values\": 2,\n        \"samples\": [\n          36,\n          60\n        ],\n        \"semantic_type\": \"\",\n        \"description\": \"\"\n      }\n    },\n    {\n      \"column\": \"inquiries_last_12m\",\n      \"properties\": {\n        \"dtype\": \"number\",\n        \"std\": 2,\n        \"min\": 0,\n        \"max\": 29,\n        \"num_unique_values\": 26,\n        \"samples\": [\n          5,\n          16\n        ],\n        \"semantic_type\": \"\",\n        \"description\": \"\"\n      }\n    },\n    {\n      \"column\": \"issue_month\",\n      \"properties\": {\n        \"dtype\": \"object\",\n        \"num_unique_values\": 3,\n        \"samples\": [\n          \"Mar-2018\",\n          \"Feb-2018\"\n        ],\n        \"semantic_type\": \"\",\n        \"description\": \"\"\n      }\n    },\n    {\n      \"column\": \"annual_income\",\n      \"properties\": {\n        \"dtype\": \"number\",\n        \"std\": 64734.290491764026,\n        \"min\": 0.0,\n        \"max\": 2300000.0,\n        \"num_unique_values\": 1463,\n        \"samples\": [\n          39362.0,\n          44500.0\n        ],\n        \"semantic_type\": \"\",\n        \"description\": \"\"\n      }\n    },\n    {\n      \"column\": \"loan_amount\",\n      \"properties\": {\n        \"dtype\": \"number\",\n        \"std\": 10301,\n        \"min\": 1000,\n        \"max\": 40000,\n        \"num_unique_values\": 612,\n        \"samples\": [\n          4000,\n          33750\n        ],\n        \"semantic_type\": \"\",\n        \"description\": \"\"\n      }\n    },\n    {\n      \"column\": \"grade\",\n      \"properties\": {\n        \"dtype\": \"category\",\n        \"num_unique_values\": 7,\n        \"samples\": [\n          \"C\",\n          \"D\"\n        ],\n        \"semantic_type\": \"\",\n        \"description\": \"\"\n      }\n    },\n    {\n      \"column\": \"emp_length\",\n      \"properties\": {\n        \"dtype\": \"number\",\n        \"std\": 3.7037336245930694,\n        \"min\": 0.0,\n        \"max\": 10.0,\n        \"num_unique_values\": 11,\n        \"samples\": [\n          7.0,\n          3.0\n        ],\n        \"semantic_type\": \"\",\n        \"description\": \"\"\n      }\n    },\n    {\n      \"column\": \"homeownership\",\n      \"properties\": {\n        \"dtype\": \"category\",\n        \"num_unique_values\": 3,\n        \"samples\": [\n          \"MORTGAGE\",\n          \"RENT\"\n        ],\n        \"semantic_type\": \"\",\n        \"description\": \"\"\n      }\n    }\n  ]\n}"
            }
          },
          "metadata": {},
          "execution_count": 6
        }
      ]
    },
    {
      "cell_type": "markdown",
      "source": [
        "## B"
      ],
      "metadata": {
        "id": "KAFPoEGbV6g-"
      }
    },
    {
      "cell_type": "code",
      "source": [
        "clean_df= clean_df.rename(columns={\"inquiries_last_12m\": \"credit_checks\"})\n",
        "clean_df.head()"
      ],
      "metadata": {
        "id": "fJeGuo4iV8Jn",
        "colab": {
          "base_uri": "https://localhost:8080/",
          "height": 221
        },
        "outputId": "812c4d4d-6f03-44c9-b22b-bc27d1af7fcf"
      },
      "execution_count": null,
      "outputs": [
        {
          "output_type": "execute_result",
          "data": {
            "text/plain": [
              "   interest_rate  verified_income  debt_to_income  total_credit_utilized  \\\n",
              "0          14.07         Verified           18.01                  38767   \n",
              "1          12.61     Not Verified            5.04                   4321   \n",
              "2          17.09  Source Verified           21.15                  16000   \n",
              "3           6.72     Not Verified           10.16                   4997   \n",
              "4          14.07         Verified           57.96                  52722   \n",
              "\n",
              "   total_credit_limit  public_record_bankrupt        loan_purpose  term  \\\n",
              "0               70795                       0              moving    60   \n",
              "1               28800                       1  debt_consolidation    36   \n",
              "2               24193                       0               other    36   \n",
              "3               25400                       0  debt_consolidation    36   \n",
              "4               69839                       0         credit_card    36   \n",
              "\n",
              "   credit_checks issue_month  annual_income  loan_amount grade  emp_length  \\\n",
              "0              6    Mar-2018        90000.0        28000     C         3.0   \n",
              "1              1    Feb-2018        40000.0         5000     C        10.0   \n",
              "2              4    Feb-2018        40000.0         2000     D         3.0   \n",
              "3              0    Jan-2018        30000.0        21600     A         1.0   \n",
              "4              7    Mar-2018        35000.0        23000     C        10.0   \n",
              "\n",
              "  homeownership  \n",
              "0      MORTGAGE  \n",
              "1          RENT  \n",
              "2          RENT  \n",
              "3          RENT  \n",
              "4          RENT  "
            ],
            "text/html": [
              "\n",
              "  <div id=\"df-d198273a-677f-42b2-940d-adf553ca35d2\" class=\"colab-df-container\">\n",
              "    <div>\n",
              "<style scoped>\n",
              "    .dataframe tbody tr th:only-of-type {\n",
              "        vertical-align: middle;\n",
              "    }\n",
              "\n",
              "    .dataframe tbody tr th {\n",
              "        vertical-align: top;\n",
              "    }\n",
              "\n",
              "    .dataframe thead th {\n",
              "        text-align: right;\n",
              "    }\n",
              "</style>\n",
              "<table border=\"1\" class=\"dataframe\">\n",
              "  <thead>\n",
              "    <tr style=\"text-align: right;\">\n",
              "      <th></th>\n",
              "      <th>interest_rate</th>\n",
              "      <th>verified_income</th>\n",
              "      <th>debt_to_income</th>\n",
              "      <th>total_credit_utilized</th>\n",
              "      <th>total_credit_limit</th>\n",
              "      <th>public_record_bankrupt</th>\n",
              "      <th>loan_purpose</th>\n",
              "      <th>term</th>\n",
              "      <th>credit_checks</th>\n",
              "      <th>issue_month</th>\n",
              "      <th>annual_income</th>\n",
              "      <th>loan_amount</th>\n",
              "      <th>grade</th>\n",
              "      <th>emp_length</th>\n",
              "      <th>homeownership</th>\n",
              "    </tr>\n",
              "  </thead>\n",
              "  <tbody>\n",
              "    <tr>\n",
              "      <th>0</th>\n",
              "      <td>14.07</td>\n",
              "      <td>Verified</td>\n",
              "      <td>18.01</td>\n",
              "      <td>38767</td>\n",
              "      <td>70795</td>\n",
              "      <td>0</td>\n",
              "      <td>moving</td>\n",
              "      <td>60</td>\n",
              "      <td>6</td>\n",
              "      <td>Mar-2018</td>\n",
              "      <td>90000.0</td>\n",
              "      <td>28000</td>\n",
              "      <td>C</td>\n",
              "      <td>3.0</td>\n",
              "      <td>MORTGAGE</td>\n",
              "    </tr>\n",
              "    <tr>\n",
              "      <th>1</th>\n",
              "      <td>12.61</td>\n",
              "      <td>Not Verified</td>\n",
              "      <td>5.04</td>\n",
              "      <td>4321</td>\n",
              "      <td>28800</td>\n",
              "      <td>1</td>\n",
              "      <td>debt_consolidation</td>\n",
              "      <td>36</td>\n",
              "      <td>1</td>\n",
              "      <td>Feb-2018</td>\n",
              "      <td>40000.0</td>\n",
              "      <td>5000</td>\n",
              "      <td>C</td>\n",
              "      <td>10.0</td>\n",
              "      <td>RENT</td>\n",
              "    </tr>\n",
              "    <tr>\n",
              "      <th>2</th>\n",
              "      <td>17.09</td>\n",
              "      <td>Source Verified</td>\n",
              "      <td>21.15</td>\n",
              "      <td>16000</td>\n",
              "      <td>24193</td>\n",
              "      <td>0</td>\n",
              "      <td>other</td>\n",
              "      <td>36</td>\n",
              "      <td>4</td>\n",
              "      <td>Feb-2018</td>\n",
              "      <td>40000.0</td>\n",
              "      <td>2000</td>\n",
              "      <td>D</td>\n",
              "      <td>3.0</td>\n",
              "      <td>RENT</td>\n",
              "    </tr>\n",
              "    <tr>\n",
              "      <th>3</th>\n",
              "      <td>6.72</td>\n",
              "      <td>Not Verified</td>\n",
              "      <td>10.16</td>\n",
              "      <td>4997</td>\n",
              "      <td>25400</td>\n",
              "      <td>0</td>\n",
              "      <td>debt_consolidation</td>\n",
              "      <td>36</td>\n",
              "      <td>0</td>\n",
              "      <td>Jan-2018</td>\n",
              "      <td>30000.0</td>\n",
              "      <td>21600</td>\n",
              "      <td>A</td>\n",
              "      <td>1.0</td>\n",
              "      <td>RENT</td>\n",
              "    </tr>\n",
              "    <tr>\n",
              "      <th>4</th>\n",
              "      <td>14.07</td>\n",
              "      <td>Verified</td>\n",
              "      <td>57.96</td>\n",
              "      <td>52722</td>\n",
              "      <td>69839</td>\n",
              "      <td>0</td>\n",
              "      <td>credit_card</td>\n",
              "      <td>36</td>\n",
              "      <td>7</td>\n",
              "      <td>Mar-2018</td>\n",
              "      <td>35000.0</td>\n",
              "      <td>23000</td>\n",
              "      <td>C</td>\n",
              "      <td>10.0</td>\n",
              "      <td>RENT</td>\n",
              "    </tr>\n",
              "  </tbody>\n",
              "</table>\n",
              "</div>\n",
              "    <div class=\"colab-df-buttons\">\n",
              "\n",
              "  <div class=\"colab-df-container\">\n",
              "    <button class=\"colab-df-convert\" onclick=\"convertToInteractive('df-d198273a-677f-42b2-940d-adf553ca35d2')\"\n",
              "            title=\"Convert this dataframe to an interactive table.\"\n",
              "            style=\"display:none;\">\n",
              "\n",
              "  <svg xmlns=\"http://www.w3.org/2000/svg\" height=\"24px\" viewBox=\"0 -960 960 960\">\n",
              "    <path d=\"M120-120v-720h720v720H120Zm60-500h600v-160H180v160Zm220 220h160v-160H400v160Zm0 220h160v-160H400v160ZM180-400h160v-160H180v160Zm440 0h160v-160H620v160ZM180-180h160v-160H180v160Zm440 0h160v-160H620v160Z\"/>\n",
              "  </svg>\n",
              "    </button>\n",
              "\n",
              "  <style>\n",
              "    .colab-df-container {\n",
              "      display:flex;\n",
              "      gap: 12px;\n",
              "    }\n",
              "\n",
              "    .colab-df-convert {\n",
              "      background-color: #E8F0FE;\n",
              "      border: none;\n",
              "      border-radius: 50%;\n",
              "      cursor: pointer;\n",
              "      display: none;\n",
              "      fill: #1967D2;\n",
              "      height: 32px;\n",
              "      padding: 0 0 0 0;\n",
              "      width: 32px;\n",
              "    }\n",
              "\n",
              "    .colab-df-convert:hover {\n",
              "      background-color: #E2EBFA;\n",
              "      box-shadow: 0px 1px 2px rgba(60, 64, 67, 0.3), 0px 1px 3px 1px rgba(60, 64, 67, 0.15);\n",
              "      fill: #174EA6;\n",
              "    }\n",
              "\n",
              "    .colab-df-buttons div {\n",
              "      margin-bottom: 4px;\n",
              "    }\n",
              "\n",
              "    [theme=dark] .colab-df-convert {\n",
              "      background-color: #3B4455;\n",
              "      fill: #D2E3FC;\n",
              "    }\n",
              "\n",
              "    [theme=dark] .colab-df-convert:hover {\n",
              "      background-color: #434B5C;\n",
              "      box-shadow: 0px 1px 3px 1px rgba(0, 0, 0, 0.15);\n",
              "      filter: drop-shadow(0px 1px 2px rgba(0, 0, 0, 0.3));\n",
              "      fill: #FFFFFF;\n",
              "    }\n",
              "  </style>\n",
              "\n",
              "    <script>\n",
              "      const buttonEl =\n",
              "        document.querySelector('#df-d198273a-677f-42b2-940d-adf553ca35d2 button.colab-df-convert');\n",
              "      buttonEl.style.display =\n",
              "        google.colab.kernel.accessAllowed ? 'block' : 'none';\n",
              "\n",
              "      async function convertToInteractive(key) {\n",
              "        const element = document.querySelector('#df-d198273a-677f-42b2-940d-adf553ca35d2');\n",
              "        const dataTable =\n",
              "          await google.colab.kernel.invokeFunction('convertToInteractive',\n",
              "                                                    [key], {});\n",
              "        if (!dataTable) return;\n",
              "\n",
              "        const docLinkHtml = 'Like what you see? Visit the ' +\n",
              "          '<a target=\"_blank\" href=https://colab.research.google.com/notebooks/data_table.ipynb>data table notebook</a>'\n",
              "          + ' to learn more about interactive tables.';\n",
              "        element.innerHTML = '';\n",
              "        dataTable['output_type'] = 'display_data';\n",
              "        await google.colab.output.renderOutput(dataTable, element);\n",
              "        const docLink = document.createElement('div');\n",
              "        docLink.innerHTML = docLinkHtml;\n",
              "        element.appendChild(docLink);\n",
              "      }\n",
              "    </script>\n",
              "  </div>\n",
              "\n",
              "\n",
              "    <div id=\"df-3d944635-d317-4445-b05c-cb3ec42ce2be\">\n",
              "      <button class=\"colab-df-quickchart\" onclick=\"quickchart('df-3d944635-d317-4445-b05c-cb3ec42ce2be')\"\n",
              "                title=\"Suggest charts\"\n",
              "                style=\"display:none;\">\n",
              "\n",
              "<svg xmlns=\"http://www.w3.org/2000/svg\" height=\"24px\"viewBox=\"0 0 24 24\"\n",
              "     width=\"24px\">\n",
              "    <g>\n",
              "        <path d=\"M19 3H5c-1.1 0-2 .9-2 2v14c0 1.1.9 2 2 2h14c1.1 0 2-.9 2-2V5c0-1.1-.9-2-2-2zM9 17H7v-7h2v7zm4 0h-2V7h2v10zm4 0h-2v-4h2v4z\"/>\n",
              "    </g>\n",
              "</svg>\n",
              "      </button>\n",
              "\n",
              "<style>\n",
              "  .colab-df-quickchart {\n",
              "      --bg-color: #E8F0FE;\n",
              "      --fill-color: #1967D2;\n",
              "      --hover-bg-color: #E2EBFA;\n",
              "      --hover-fill-color: #174EA6;\n",
              "      --disabled-fill-color: #AAA;\n",
              "      --disabled-bg-color: #DDD;\n",
              "  }\n",
              "\n",
              "  [theme=dark] .colab-df-quickchart {\n",
              "      --bg-color: #3B4455;\n",
              "      --fill-color: #D2E3FC;\n",
              "      --hover-bg-color: #434B5C;\n",
              "      --hover-fill-color: #FFFFFF;\n",
              "      --disabled-bg-color: #3B4455;\n",
              "      --disabled-fill-color: #666;\n",
              "  }\n",
              "\n",
              "  .colab-df-quickchart {\n",
              "    background-color: var(--bg-color);\n",
              "    border: none;\n",
              "    border-radius: 50%;\n",
              "    cursor: pointer;\n",
              "    display: none;\n",
              "    fill: var(--fill-color);\n",
              "    height: 32px;\n",
              "    padding: 0;\n",
              "    width: 32px;\n",
              "  }\n",
              "\n",
              "  .colab-df-quickchart:hover {\n",
              "    background-color: var(--hover-bg-color);\n",
              "    box-shadow: 0 1px 2px rgba(60, 64, 67, 0.3), 0 1px 3px 1px rgba(60, 64, 67, 0.15);\n",
              "    fill: var(--button-hover-fill-color);\n",
              "  }\n",
              "\n",
              "  .colab-df-quickchart-complete:disabled,\n",
              "  .colab-df-quickchart-complete:disabled:hover {\n",
              "    background-color: var(--disabled-bg-color);\n",
              "    fill: var(--disabled-fill-color);\n",
              "    box-shadow: none;\n",
              "  }\n",
              "\n",
              "  .colab-df-spinner {\n",
              "    border: 2px solid var(--fill-color);\n",
              "    border-color: transparent;\n",
              "    border-bottom-color: var(--fill-color);\n",
              "    animation:\n",
              "      spin 1s steps(1) infinite;\n",
              "  }\n",
              "\n",
              "  @keyframes spin {\n",
              "    0% {\n",
              "      border-color: transparent;\n",
              "      border-bottom-color: var(--fill-color);\n",
              "      border-left-color: var(--fill-color);\n",
              "    }\n",
              "    20% {\n",
              "      border-color: transparent;\n",
              "      border-left-color: var(--fill-color);\n",
              "      border-top-color: var(--fill-color);\n",
              "    }\n",
              "    30% {\n",
              "      border-color: transparent;\n",
              "      border-left-color: var(--fill-color);\n",
              "      border-top-color: var(--fill-color);\n",
              "      border-right-color: var(--fill-color);\n",
              "    }\n",
              "    40% {\n",
              "      border-color: transparent;\n",
              "      border-right-color: var(--fill-color);\n",
              "      border-top-color: var(--fill-color);\n",
              "    }\n",
              "    60% {\n",
              "      border-color: transparent;\n",
              "      border-right-color: var(--fill-color);\n",
              "    }\n",
              "    80% {\n",
              "      border-color: transparent;\n",
              "      border-right-color: var(--fill-color);\n",
              "      border-bottom-color: var(--fill-color);\n",
              "    }\n",
              "    90% {\n",
              "      border-color: transparent;\n",
              "      border-bottom-color: var(--fill-color);\n",
              "    }\n",
              "  }\n",
              "</style>\n",
              "\n",
              "      <script>\n",
              "        async function quickchart(key) {\n",
              "          const quickchartButtonEl =\n",
              "            document.querySelector('#' + key + ' button');\n",
              "          quickchartButtonEl.disabled = true;  // To prevent multiple clicks.\n",
              "          quickchartButtonEl.classList.add('colab-df-spinner');\n",
              "          try {\n",
              "            const charts = await google.colab.kernel.invokeFunction(\n",
              "                'suggestCharts', [key], {});\n",
              "          } catch (error) {\n",
              "            console.error('Error during call to suggestCharts:', error);\n",
              "          }\n",
              "          quickchartButtonEl.classList.remove('colab-df-spinner');\n",
              "          quickchartButtonEl.classList.add('colab-df-quickchart-complete');\n",
              "        }\n",
              "        (() => {\n",
              "          let quickchartButtonEl =\n",
              "            document.querySelector('#df-3d944635-d317-4445-b05c-cb3ec42ce2be button');\n",
              "          quickchartButtonEl.style.display =\n",
              "            google.colab.kernel.accessAllowed ? 'block' : 'none';\n",
              "        })();\n",
              "      </script>\n",
              "    </div>\n",
              "\n",
              "    </div>\n",
              "  </div>\n"
            ],
            "application/vnd.google.colaboratory.intrinsic+json": {
              "type": "dataframe",
              "variable_name": "clean_df",
              "summary": "{\n  \"name\": \"clean_df\",\n  \"rows\": 10000,\n  \"fields\": [\n    {\n      \"column\": \"interest_rate\",\n      \"properties\": {\n        \"dtype\": \"number\",\n        \"std\": 5.001104881366526,\n        \"min\": 5.31,\n        \"max\": 30.94,\n        \"num_unique_values\": 58,\n        \"samples\": [\n          14.07,\n          11.99,\n          10.91\n        ],\n        \"semantic_type\": \"\",\n        \"description\": \"\"\n      }\n    },\n    {\n      \"column\": \"verified_income\",\n      \"properties\": {\n        \"dtype\": \"category\",\n        \"num_unique_values\": 3,\n        \"samples\": [\n          \"Verified\",\n          \"Not Verified\",\n          \"Source Verified\"\n        ],\n        \"semantic_type\": \"\",\n        \"description\": \"\"\n      }\n    },\n    {\n      \"column\": \"debt_to_income\",\n      \"properties\": {\n        \"dtype\": \"number\",\n        \"std\": 15.004851306313055,\n        \"min\": 0.0,\n        \"max\": 469.09,\n        \"num_unique_values\": 3673,\n        \"samples\": [\n          20.95,\n          36.4,\n          5.66\n        ],\n        \"semantic_type\": \"\",\n        \"description\": \"\"\n      }\n    },\n    {\n      \"column\": \"total_credit_utilized\",\n      \"properties\": {\n        \"dtype\": \"number\",\n        \"std\": 53636,\n        \"min\": 0,\n        \"max\": 942456,\n        \"num_unique_values\": 9497,\n        \"samples\": [\n          180500,\n          15058,\n          17136\n        ],\n        \"semantic_type\": \"\",\n        \"description\": \"\"\n      }\n    },\n    {\n      \"column\": \"total_credit_limit\",\n      \"properties\": {\n        \"dtype\": \"number\",\n        \"std\": 187632,\n        \"min\": 0,\n        \"max\": 3386034,\n        \"num_unique_values\": 9119,\n        \"samples\": [\n          122598,\n          470538,\n          355333\n        ],\n        \"semantic_type\": \"\",\n        \"description\": \"\"\n      }\n    },\n    {\n      \"column\": \"public_record_bankrupt\",\n      \"properties\": {\n        \"dtype\": \"number\",\n        \"std\": 0,\n        \"min\": 0,\n        \"max\": 3,\n        \"num_unique_values\": 4,\n        \"samples\": [\n          1,\n          3,\n          0\n        ],\n        \"semantic_type\": \"\",\n        \"description\": \"\"\n      }\n    },\n    {\n      \"column\": \"loan_purpose\",\n      \"properties\": {\n        \"dtype\": \"category\",\n        \"num_unique_values\": 12,\n        \"samples\": [\n          \"vacation\",\n          \"major_purchase\",\n          \"moving\"\n        ],\n        \"semantic_type\": \"\",\n        \"description\": \"\"\n      }\n    },\n    {\n      \"column\": \"term\",\n      \"properties\": {\n        \"dtype\": \"number\",\n        \"std\": 11,\n        \"min\": 36,\n        \"max\": 60,\n        \"num_unique_values\": 2,\n        \"samples\": [\n          36,\n          60\n        ],\n        \"semantic_type\": \"\",\n        \"description\": \"\"\n      }\n    },\n    {\n      \"column\": \"credit_checks\",\n      \"properties\": {\n        \"dtype\": \"number\",\n        \"std\": 2,\n        \"min\": 0,\n        \"max\": 29,\n        \"num_unique_values\": 26,\n        \"samples\": [\n          5,\n          16\n        ],\n        \"semantic_type\": \"\",\n        \"description\": \"\"\n      }\n    },\n    {\n      \"column\": \"issue_month\",\n      \"properties\": {\n        \"dtype\": \"object\",\n        \"num_unique_values\": 3,\n        \"samples\": [\n          \"Mar-2018\",\n          \"Feb-2018\"\n        ],\n        \"semantic_type\": \"\",\n        \"description\": \"\"\n      }\n    },\n    {\n      \"column\": \"annual_income\",\n      \"properties\": {\n        \"dtype\": \"number\",\n        \"std\": 64734.290491764026,\n        \"min\": 0.0,\n        \"max\": 2300000.0,\n        \"num_unique_values\": 1463,\n        \"samples\": [\n          39362.0,\n          44500.0\n        ],\n        \"semantic_type\": \"\",\n        \"description\": \"\"\n      }\n    },\n    {\n      \"column\": \"loan_amount\",\n      \"properties\": {\n        \"dtype\": \"number\",\n        \"std\": 10301,\n        \"min\": 1000,\n        \"max\": 40000,\n        \"num_unique_values\": 612,\n        \"samples\": [\n          4000,\n          33750\n        ],\n        \"semantic_type\": \"\",\n        \"description\": \"\"\n      }\n    },\n    {\n      \"column\": \"grade\",\n      \"properties\": {\n        \"dtype\": \"category\",\n        \"num_unique_values\": 7,\n        \"samples\": [\n          \"C\",\n          \"D\"\n        ],\n        \"semantic_type\": \"\",\n        \"description\": \"\"\n      }\n    },\n    {\n      \"column\": \"emp_length\",\n      \"properties\": {\n        \"dtype\": \"number\",\n        \"std\": 3.7037336245930694,\n        \"min\": 0.0,\n        \"max\": 10.0,\n        \"num_unique_values\": 11,\n        \"samples\": [\n          7.0,\n          3.0\n        ],\n        \"semantic_type\": \"\",\n        \"description\": \"\"\n      }\n    },\n    {\n      \"column\": \"homeownership\",\n      \"properties\": {\n        \"dtype\": \"category\",\n        \"num_unique_values\": 3,\n        \"samples\": [\n          \"MORTGAGE\",\n          \"RENT\"\n        ],\n        \"semantic_type\": \"\",\n        \"description\": \"\"\n      }\n    }\n  ]\n}"
            }
          },
          "metadata": {},
          "execution_count": 7
        }
      ]
    },
    {
      "cell_type": "markdown",
      "source": [
        "## C"
      ],
      "metadata": {
        "id": "FgxZFSfgWjp3"
      }
    },
    {
      "cell_type": "code",
      "source": [
        "print(f\"Number of observations before cleaning: {df.shape[0]}\")\n"
      ],
      "metadata": {
        "id": "olo-p0syWqS4",
        "colab": {
          "base_uri": "https://localhost:8080/"
        },
        "outputId": "c63262c5-3255-4b4a-854c-acc649927811"
      },
      "execution_count": null,
      "outputs": [
        {
          "output_type": "stream",
          "name": "stdout",
          "text": [
            "Number of observations before cleaning: 10000\n"
          ]
        }
      ]
    },
    {
      "cell_type": "code",
      "source": [
        "print(f\"Number of observations after cleaning: {clean_df.shape[0]}\")"
      ],
      "metadata": {
        "id": "1LFYnyNFXR0d",
        "colab": {
          "base_uri": "https://localhost:8080/"
        },
        "outputId": "225c80ea-5d2b-4a03-d3d0-1e92b0f6946a"
      },
      "execution_count": null,
      "outputs": [
        {
          "output_type": "stream",
          "name": "stdout",
          "text": [
            "Number of observations after cleaning: 10000\n"
          ]
        }
      ]
    },
    {
      "cell_type": "code",
      "source": [
        "print(\"Summary statistics of cleaned data:\")\n",
        "print(clean_df.describe().round(2))"
      ],
      "metadata": {
        "id": "ShBL7EQBXl80",
        "colab": {
          "base_uri": "https://localhost:8080/"
        },
        "outputId": "a893aa36-9dac-45f8-c3a9-c5d12b826769"
      },
      "execution_count": null,
      "outputs": [
        {
          "output_type": "stream",
          "name": "stdout",
          "text": [
            "Summary statistics of cleaned data:\n",
            "       interest_rate  debt_to_income  total_credit_utilized  \\\n",
            "count       10000.00         9976.00               10000.00   \n",
            "mean           12.43           19.31               51049.06   \n",
            "std             5.00           15.00               53636.73   \n",
            "min             5.31            0.00                   0.00   \n",
            "25%             9.43           11.06               19185.50   \n",
            "50%            11.98           17.57               36927.00   \n",
            "75%            15.05           25.00               65421.00   \n",
            "max            30.94          469.09              942456.00   \n",
            "\n",
            "       total_credit_limit  public_record_bankrupt      term  credit_checks  \\\n",
            "count            10000.00                10000.00  10000.00       10000.00   \n",
            "mean            183606.23                    0.12     43.27           1.96   \n",
            "std             187632.71                    0.34     11.03           2.38   \n",
            "min                  0.00                    0.00     36.00           0.00   \n",
            "25%              51593.75                    0.00     36.00           0.00   \n",
            "50%             114667.00                    0.00     36.00           1.00   \n",
            "75%             267550.00                    0.00     60.00           3.00   \n",
            "max            3386034.00                    3.00     60.00          29.00   \n",
            "\n",
            "       annual_income  loan_amount  emp_length  \n",
            "count       10000.00     10000.00     9183.00  \n",
            "mean        79222.15     16361.92        5.93  \n",
            "std         64734.29     10301.96        3.70  \n",
            "min             0.00      1000.00        0.00  \n",
            "25%         45000.00      8000.00        2.00  \n",
            "50%         65000.00     14500.00        6.00  \n",
            "75%         95000.00     24000.00       10.00  \n",
            "max       2300000.00     40000.00       10.00  \n"
          ]
        }
      ]
    },
    {
      "cell_type": "code",
      "source": [
        "# Generate summary statistics and save to CSV\n",
        "summary_stats = clean_df.describe().round(2)\n",
        "summary_stats.to_csv('summary_statistics.csv')\n",
        "\n",
        "print(\"Summary statistics saved to 'summary_statistics.csv'\")\n"
      ],
      "metadata": {
        "colab": {
          "base_uri": "https://localhost:8080/"
        },
        "id": "IK8JB4P57btK",
        "outputId": "a114e660-d20f-43b3-9499-e75e8a0c57ee"
      },
      "execution_count": null,
      "outputs": [
        {
          "output_type": "stream",
          "name": "stdout",
          "text": [
            "Summary statistics saved to 'summary_statistics.csv'\n"
          ]
        }
      ]
    },
    {
      "cell_type": "markdown",
      "source": [
        "## 2. PART B: Exploratory Data Analysis"
      ],
      "metadata": {
        "id": "FZSPMuZGYAl0"
      }
    },
    {
      "cell_type": "markdown",
      "source": [
        "### 2.1 Descriptive statistics."
      ],
      "metadata": {
        "id": "yOmWKuqFYP2I"
      }
    },
    {
      "cell_type": "markdown",
      "source": [
        "## A"
      ],
      "metadata": {
        "id": "-rYuEkKAeitg"
      }
    },
    {
      "cell_type": "code",
      "source": [
        "# calculate mean, median, standard deviation, minimum and maximum for interest_rate\n",
        "var_stats = [\"interest_rate\",\"annual_income\", \"debt_to_income\", \"loan_amount\"]\n",
        "describe_stats = pd.DataFrame({ \"Mean\": clean_df[var_stats].mean(),\n",
        "                                \"Median\": clean_df[var_stats].median(),\n",
        "                                \"Standard deviation\": clean_df[var_stats].std(),\n",
        "                                \"Minimum\": clean_df[var_stats].min(),\n",
        "                                \"Maximum\": clean_df[var_stats].max()\n",
        "                                })"
      ],
      "metadata": {
        "id": "Dp3LKNDkYVA4"
      },
      "execution_count": null,
      "outputs": []
    },
    {
      "cell_type": "code",
      "source": [
        "print(\"Descriptive statistics for interest_rate:\")\n",
        "print(describe_stats.round(2))"
      ],
      "metadata": {
        "id": "boT8D3Nnd3lb",
        "colab": {
          "base_uri": "https://localhost:8080/"
        },
        "outputId": "41d8c175-e52b-4463-d14b-6f1b3f7ab89b"
      },
      "execution_count": null,
      "outputs": [
        {
          "output_type": "stream",
          "name": "stdout",
          "text": [
            "Descriptive statistics for interest_rate:\n",
            "                    Mean    Median  Standard deviation  Minimum     Maximum\n",
            "interest_rate      12.43     11.98                5.00     5.31       30.94\n",
            "annual_income   79222.15  65000.00            64734.29     0.00  2300000.00\n",
            "debt_to_income     19.31     17.57               15.00     0.00      469.09\n",
            "loan_amount     16361.92  14500.00            10301.96  1000.00    40000.00\n"
          ]
        }
      ]
    },
    {
      "cell_type": "markdown",
      "source": [
        "## B"
      ],
      "metadata": {
        "id": "IleYk7JBemYI"
      }
    },
    {
      "cell_type": "code",
      "source": [
        "# Unique Values and Frequencies for grade, verified_income and homeownership\n",
        "grade_counts = clean_df[\"grade\"].value_counts()\n",
        "verified_income_counts = clean_df[\"verified_income\"].value_counts()\n",
        "homeownership_counts = clean_df[\"homeownership\"].value_counts()"
      ],
      "metadata": {
        "id": "PugeEAakepWc"
      },
      "execution_count": null,
      "outputs": []
    },
    {
      "cell_type": "code",
      "source": [
        "grade_counts = clean_df['grade'].value_counts().sort_index()\n",
        "print(f\"Unique values and frequencies for grade are as follows:\\n{grade_counts}\")"
      ],
      "metadata": {
        "id": "vJd1uodtbq_G",
        "colab": {
          "base_uri": "https://localhost:8080/"
        },
        "outputId": "5a95542e-efe5-4dae-b273-2d1bb32900fc"
      },
      "execution_count": null,
      "outputs": [
        {
          "output_type": "stream",
          "name": "stdout",
          "text": [
            "Unique values and frequencies for grade are as follows:\n",
            "grade\n",
            "A    2459\n",
            "B    3037\n",
            "C    2653\n",
            "D    1446\n",
            "E     335\n",
            "F      58\n",
            "G      12\n",
            "Name: count, dtype: int64\n"
          ]
        }
      ]
    },
    {
      "cell_type": "code",
      "source": [
        "print (f\"Unique values and frequencies for verified_income is as follows: {verified_income_counts}\")"
      ],
      "metadata": {
        "id": "KRQltYhpflll",
        "colab": {
          "base_uri": "https://localhost:8080/"
        },
        "outputId": "bc258900-bdb1-4d0d-cd70-0071a58dc875"
      },
      "execution_count": null,
      "outputs": [
        {
          "output_type": "stream",
          "name": "stdout",
          "text": [
            "Unique values and frequencies for verified_income is as follows: verified_income\n",
            "Source Verified    4116\n",
            "Not Verified       3594\n",
            "Verified           2290\n",
            "Name: count, dtype: int64\n"
          ]
        }
      ]
    },
    {
      "cell_type": "code",
      "source": [
        "print (f\"Unique values and frequencies for homeownership is as follows: {homeownership_counts}\")"
      ],
      "metadata": {
        "id": "tQ0bd3PnfxrE",
        "colab": {
          "base_uri": "https://localhost:8080/"
        },
        "outputId": "18173649-71c9-43f3-f8bd-f272140a587d"
      },
      "execution_count": null,
      "outputs": [
        {
          "output_type": "stream",
          "name": "stdout",
          "text": [
            "Unique values and frequencies for homeownership is as follows: homeownership\n",
            "MORTGAGE    4789\n",
            "RENT        3858\n",
            "OWN         1353\n",
            "Name: count, dtype: int64\n"
          ]
        }
      ]
    },
    {
      "cell_type": "markdown",
      "source": [
        "## 2.2 Data Visualizations"
      ],
      "metadata": {
        "id": "SAcC-8V_gD3g"
      }
    },
    {
      "cell_type": "markdown",
      "source": [
        "### a. Histograms"
      ],
      "metadata": {
        "id": "Zjm__qJhgQ1K"
      }
    },
    {
      "cell_type": "code",
      "source": [
        "# Create a histogram for the distribution of interest rate\n",
        "plt.figure(figsize=(8, 6))\n",
        "sns.histplot(clean_df[\"interest_rate\"], bins=20, kde=True)\n",
        "plt.xlabel(\"Interest Rate\")\n",
        "plt.ylabel(\"Frequency\")\n",
        "plt.title(\"Distribution of Interest Rate\")\n",
        "plt.show()\n",
        "\n"
      ],
      "metadata": {
        "id": "NOh2oS9-gO0g",
        "colab": {
          "base_uri": "https://localhost:8080/",
          "height": 585
        },
        "outputId": "69c1a0e5-e6f9-438b-a742-9b59990cca50"
      },
      "execution_count": null,
      "outputs": [
        {
          "output_type": "display_data",
          "data": {
            "text/plain": [
              "<Figure size 800x600 with 1 Axes>"
            ],
            "image/png": "[encoded data removed]"
          },
          "metadata": {}
        }
      ]
    },
    {
      "cell_type": "code",
      "source": [
        "# Create a histogram for the distribution of annual income\n",
        "plt.figure(figsize=(8, 6))\n",
        "sns.histplot(clean_df[\"annual_income\"], bins=20, kde=True)\n",
        "plt.xlabel(\"Annual Income\")\n",
        "plt.ylabel(\"Frequency\")\n",
        "plt.title(\"Distribution of Annual Income\")"
      ],
      "metadata": {
        "id": "mX2jGNpDhSYM",
        "colab": {
          "base_uri": "https://localhost:8080/",
          "height": 601
        },
        "outputId": "9ecb849f-5d96-4fc5-aa1e-aebe80ad601b"
      },
      "execution_count": null,
      "outputs": [
        {
          "output_type": "execute_result",
          "data": {
            "text/plain": [
              "Text(0.5, 1.0, 'Distribution of Annual Income')"
            ]
          },
          "metadata": {},
          "execution_count": 19
        },
        {
          "output_type": "display_data",
          "data": {
            "text/plain": [
              "<Figure size 800x600 with 1 Axes>"
            ],
            "image/png": "[encoded data removed]"
          },
          "metadata": {}
        }
      ]
    },
    {
      "cell_type": "markdown",
      "source": [
        "## b. Scatterplots\n"
      ],
      "metadata": {
        "id": "j72x4oolmfgZ"
      }
    },
    {
      "cell_type": "code",
      "source": [
        "# Scatterplot for interest rate and annual income\n",
        "plt.figure(figsize=(8, 6))\n",
        "sns.scatterplot(data=clean_df, x=\"annual_income\", y=\"interest_rate\")\n",
        "plt.title(\"Interest Rate vs. Annual Income\")\n",
        "plt.show()"
      ],
      "metadata": {
        "id": "V9aRuxMKmlUO",
        "colab": {
          "base_uri": "https://localhost:8080/",
          "height": 585
        },
        "outputId": "591c4ff5-a56e-403d-dac1-9e78900a7f6b"
      },
      "execution_count": null,
      "outputs": [
        {
          "output_type": "display_data",
          "data": {
            "text/plain": [
              "<Figure size 800x600 with 1 Axes>"
            ],
            "image/png": "[encoded data removed]"
          },
          "metadata": {}
        }
      ]
    },
    {
      "cell_type": "code",
      "source": [
        "# Scatterplot for interest rate and debt_to _income\n",
        "plt.figure(figsize=(8, 6))\n",
        "sns.scatterplot(data=clean_df, x=\"debt_to_income\", y=\"interest_rate\")\n",
        "plt.title(\"Interest Rate vs. Debt to Income\")\n",
        "plt.show()\n"
      ],
      "metadata": {
        "id": "Gji53rDqnfDr",
        "colab": {
          "base_uri": "https://localhost:8080/",
          "height": 585
        },
        "outputId": "0330ce61-e7a8-4425-f346-3aec22d9303b"
      },
      "execution_count": null,
      "outputs": [
        {
          "output_type": "display_data",
          "data": {
            "text/plain": [
              "<Figure size 800x600 with 1 Axes>"
            ],
            "image/png": "[encoded data removed]"
          },
          "metadata": {}
        }
      ]
    },
    {
      "cell_type": "code",
      "source": [
        "# Scatterplot of interest rate and debt to income with regression line\n",
        "plt.figure(figsize=(8, 6))\n",
        "sns.regplot(data=clean_df, x=\"debt_to_income\", y=\"interest_rate\")\n",
        "plt.title(\"Interest Rate vs. Debt to Income with Regression Line\")\n",
        "plt.show()"
      ],
      "metadata": {
        "id": "xkp_fxo4nv8f",
        "colab": {
          "base_uri": "https://localhost:8080/",
          "height": 585
        },
        "outputId": "15787ff0-0410-42d2-88ee-58f569dba78a"
      },
      "execution_count": null,
      "outputs": [
        {
          "output_type": "display_data",
          "data": {
            "text/plain": [
              "<Figure size 800x600 with 1 Axes>"
            ],
            "image/png": "[encoded data removed]"
          },
          "metadata": {}
        }
      ]
    },
    {
      "cell_type": "markdown",
      "source": [
        "## c. Box plots"
      ],
      "metadata": {
        "id": "pogVSFFCn_UH"
      }
    },
    {
      "cell_type": "code",
      "source": [
        "# create a boxplot for interest rate by grade in aplhabetical order\n",
        "plt.figure(figsize=(8, 6))\n",
        "sns.boxplot(data=clean_df, x=\"grade\", y=\"interest_rate\", order=sorted(clean_df[\"grade\"].unique()))"
      ],
      "metadata": {
        "id": "ge7g59fnoJY6",
        "colab": {
          "base_uri": "https://localhost:8080/",
          "height": 579
        },
        "outputId": "2b744aaa-1038-4c5b-feef-99eef1dbcbfc"
      },
      "execution_count": null,
      "outputs": [
        {
          "output_type": "execute_result",
          "data": {
            "text/plain": [
              "<Axes: xlabel='grade', ylabel='interest_rate'>"
            ]
          },
          "metadata": {},
          "execution_count": 23
        },
        {
          "output_type": "display_data",
          "data": {
            "text/plain": [
              "<Figure size 800x600 with 1 Axes>"
            ],
            "image/png": "[encoded data removed]"
          },
          "metadata": {}
        }
      ]
    },
    {
      "cell_type": "code",
      "source": [
        "#create a boxplot for interest rate by verified income\n",
        "plt.figure(figsize=(8, 6))\n",
        "sns.boxplot(data=clean_df, x=\"verified_income\", y=\"interest_rate\")"
      ],
      "metadata": {
        "id": "pdZIi1kE9_S3",
        "colab": {
          "base_uri": "https://localhost:8080/",
          "height": 579
        },
        "outputId": "1e2daeb2-7a84-4fc5-92b0-492a262b5c1d"
      },
      "execution_count": null,
      "outputs": [
        {
          "output_type": "execute_result",
          "data": {
            "text/plain": [
              "<Axes: xlabel='verified_income', ylabel='interest_rate'>"
            ]
          },
          "metadata": {},
          "execution_count": 24
        },
        {
          "output_type": "display_data",
          "data": {
            "text/plain": [
              "<Figure size 800x600 with 1 Axes>"
            ],
            "image/png": "[encoded data removed]"
          },
          "metadata": {}
        }
      ]
    },
    {
      "cell_type": "code",
      "source": [
        "#create a boxplot for interest rate by homeownership.\n",
        "plt.figure(figsize=(8, 6))\n",
        "sns.boxplot(data=clean_df, x=\"homeownership\", y=\"interest_rate\")"
      ],
      "metadata": {
        "id": "JxS14jjJ_BpH",
        "colab": {
          "base_uri": "https://localhost:8080/",
          "height": 579
        },
        "outputId": "edadf3a5-09e3-41e2-c158-b903eaf9bff3"
      },
      "execution_count": null,
      "outputs": [
        {
          "output_type": "execute_result",
          "data": {
            "text/plain": [
              "<Axes: xlabel='homeownership', ylabel='interest_rate'>"
            ]
          },
          "metadata": {},
          "execution_count": 25
        },
        {
          "output_type": "display_data",
          "data": {
            "text/plain": [
              "<Figure size 800x600 with 1 Axes>"
            ],
            "image/png": "[encoded data removed]"
          },
          "metadata": {}
        }
      ]
    },
    {
      "cell_type": "markdown",
      "source": [
        "## 2.3 Derived Variables.\n"
      ],
      "metadata": {
        "id": "6hEA2mdBjFh4"
      }
    },
    {
      "cell_type": "markdown",
      "source": [
        "#### a. credit util = total credit utilized / total credit limit\n",
        "Set to 0 if total credit limit is 0"
      ],
      "metadata": {
        "id": "t4G6S5ooGoag"
      }
    },
    {
      "cell_type": "code",
      "source": [
        "clean_df['credit_util'] = np.where(clean_df['total_credit_limit'] == 0,0,clean_df['total_credit_utilized'] / clean_df['total_credit_limit'])\n",
        "clean_df['credit_util'].head()"
      ],
      "metadata": {
        "id": "3dzRCYyUG0bK",
        "colab": {
          "base_uri": "https://localhost:8080/",
          "height": 254
        },
        "outputId": "cdc523e4-f50a-4b2c-9a24-7619f74fa2cc"
      },
      "execution_count": null,
      "outputs": [
        {
          "output_type": "execute_result",
          "data": {
            "text/plain": [
              "0    0.547595\n",
              "1    0.150035\n",
              "2    0.661348\n",
              "3    0.196732\n",
              "4    0.754908\n",
              "Name: credit_util, dtype: float64"
            ],
            "text/html": [
              "<div>\n",
              "<style scoped>\n",
              "    .dataframe tbody tr th:only-of-type {\n",
              "        vertical-align: middle;\n",
              "    }\n",
              "\n",
              "    .dataframe tbody tr th {\n",
              "        vertical-align: top;\n",
              "    }\n",
              "\n",
              "    .dataframe thead th {\n",
              "        text-align: right;\n",
              "    }\n",
              "</style>\n",
              "<table border=\"1\" class=\"dataframe\">\n",
              "  <thead>\n",
              "    <tr style=\"text-align: right;\">\n",
              "      <th></th>\n",
              "      <th>credit_util</th>\n",
              "    </tr>\n",
              "  </thead>\n",
              "  <tbody>\n",
              "    <tr>\n",
              "      <th>0</th>\n",
              "      <td>0.547595</td>\n",
              "    </tr>\n",
              "    <tr>\n",
              "      <th>1</th>\n",
              "      <td>0.150035</td>\n",
              "    </tr>\n",
              "    <tr>\n",
              "      <th>2</th>\n",
              "      <td>0.661348</td>\n",
              "    </tr>\n",
              "    <tr>\n",
              "      <th>3</th>\n",
              "      <td>0.196732</td>\n",
              "    </tr>\n",
              "    <tr>\n",
              "      <th>4</th>\n",
              "      <td>0.754908</td>\n",
              "    </tr>\n",
              "  </tbody>\n",
              "</table>\n",
              "</div><br><label><b>dtype:</b> float64</label>"
            ]
          },
          "metadata": {},
          "execution_count": 26
        }
      ]
    },
    {
      "cell_type": "code",
      "source": [
        "print(\"\\nMean of credit util:\", clean_df['credit_util'].mean())\n",
        "print(\"Proportion of non-zero credit util:\", (clean_df['credit_util'] != 0).mean())"
      ],
      "metadata": {
        "id": "B_dNWWp2HGay",
        "colab": {
          "base_uri": "https://localhost:8080/"
        },
        "outputId": "fdffbeec-3fae-47b7-ca9f-b6346ff1ac1f"
      },
      "execution_count": null,
      "outputs": [
        {
          "output_type": "stream",
          "name": "stdout",
          "text": [
            "\n",
            "Mean of credit util: 0.40307696513838126\n",
            "Proportion of non-zero credit util: 0.9972\n"
          ]
        }
      ]
    },
    {
      "cell_type": "markdown",
      "source": [
        "#### b. bankruptcy dummy"
      ],
      "metadata": {
        "id": "AUpFGTb3HRd2"
      }
    },
    {
      "cell_type": "code",
      "source": [
        "clean_df['bankruptcy_dummy'] = np.where(clean_df['public_record_bankrupt'] >= 1,1,0)\n",
        "clean_df['bankruptcy_dummy'].head()"
      ],
      "metadata": {
        "id": "A-uMvmW7HVbw",
        "colab": {
          "base_uri": "https://localhost:8080/",
          "height": 254
        },
        "outputId": "41102526-17f2-479f-9a87-31b392130a45"
      },
      "execution_count": null,
      "outputs": [
        {
          "output_type": "execute_result",
          "data": {
            "text/plain": [
              "0    0\n",
              "1    1\n",
              "2    0\n",
              "3    0\n",
              "4    0\n",
              "Name: bankruptcy_dummy, dtype: int64"
            ],
            "text/html": [
              "<div>\n",
              "<style scoped>\n",
              "    .dataframe tbody tr th:only-of-type {\n",
              "        vertical-align: middle;\n",
              "    }\n",
              "\n",
              "    .dataframe tbody tr th {\n",
              "        vertical-align: top;\n",
              "    }\n",
              "\n",
              "    .dataframe thead th {\n",
              "        text-align: right;\n",
              "    }\n",
              "</style>\n",
              "<table border=\"1\" class=\"dataframe\">\n",
              "  <thead>\n",
              "    <tr style=\"text-align: right;\">\n",
              "      <th></th>\n",
              "      <th>bankruptcy_dummy</th>\n",
              "    </tr>\n",
              "  </thead>\n",
              "  <tbody>\n",
              "    <tr>\n",
              "      <th>0</th>\n",
              "      <td>0</td>\n",
              "    </tr>\n",
              "    <tr>\n",
              "      <th>1</th>\n",
              "      <td>1</td>\n",
              "    </tr>\n",
              "    <tr>\n",
              "      <th>2</th>\n",
              "      <td>0</td>\n",
              "    </tr>\n",
              "    <tr>\n",
              "      <th>3</th>\n",
              "      <td>0</td>\n",
              "    </tr>\n",
              "    <tr>\n",
              "      <th>4</th>\n",
              "      <td>0</td>\n",
              "    </tr>\n",
              "  </tbody>\n",
              "</table>\n",
              "</div><br><label><b>dtype:</b> int64</label>"
            ]
          },
          "metadata": {},
          "execution_count": 28
        }
      ]
    },
    {
      "cell_type": "code",
      "source": [
        "print(\"\\nMean of bankruptcy dummy:\", (clean_df['bankruptcy_dummy'].mean()))\n",
        "print(\"Proportion of bankruptcies:\", (clean_df['bankruptcy_dummy'] == 1).mean())"
      ],
      "metadata": {
        "id": "ueWDV1ZhHabC",
        "colab": {
          "base_uri": "https://localhost:8080/"
        },
        "outputId": "75deaffe-6585-497a-89f1-06d860dc14b5"
      },
      "execution_count": null,
      "outputs": [
        {
          "output_type": "stream",
          "name": "stdout",
          "text": [
            "\n",
            "Mean of bankruptcy dummy: 0.1215\n",
            "Proportion of bankruptcies: 0.1215\n"
          ]
        }
      ]
    },
    {
      "cell_type": "markdown",
      "source": [
        "# 3. Regeression Analysis\n"
      ],
      "metadata": {
        "id": "GC87PTiMw43j"
      }
    },
    {
      "cell_type": "markdown",
      "source": [
        "### Part B: Regression Analysis\n",
        "\n",
        "#### 3.1 Models\n",
        "\n",
        "##### (a) Model 1: Simple Linear Regression\n",
        "\n",
        "• Estimate:\n",
        "interest rate = β0 + β1 debt to income + ε\n",
        "\n",
        "• Report regression equation with estimated coefficients\n",
        "\n",
        "• Interpret the coefficient β1 in the model\n",
        "\n",
        "• Test H0 : β1 = 0 at α = 0.01, 0.05, 0.1 significance levels"
      ],
      "metadata": {
        "id": "J29GEVsVHsMF"
      }
    },
    {
      "cell_type": "code",
      "source": [
        "import statsmodels.api as sm\n",
        "import statsmodels.formula.api as smf"
      ],
      "metadata": {
        "id": "JEC6Hoinw4Vt"
      },
      "execution_count": null,
      "outputs": []
    },
    {
      "cell_type": "code",
      "source": [
        "model1 = smf.ols('interest_rate ~ debt_to_income', data=clean_df).fit()\n",
        "print(model1.summary())"
      ],
      "metadata": {
        "id": "JjJAFv9LH1k3",
        "colab": {
          "base_uri": "https://localhost:8080/"
        },
        "outputId": "b9fcdc0f-64ea-4b43-fb5f-b1a1d2516119"
      },
      "execution_count": null,
      "outputs": [
        {
          "output_type": "stream",
          "name": "stdout",
          "text": [
            "                            OLS Regression Results                            \n",
            "==============================================================================\n",
            "Dep. Variable:          interest_rate   R-squared:                       0.020\n",
            "Model:                            OLS   Adj. R-squared:                  0.020\n",
            "Method:                 Least Squares   F-statistic:                     204.2\n",
            "Date:                Thu, 22 May 2025   Prob (F-statistic):           7.05e-46\n",
            "Time:                        15:04:17   Log-Likelihood:                -30105.\n",
            "No. Observations:                9976   AIC:                         6.021e+04\n",
            "Df Residuals:                    9974   BIC:                         6.023e+04\n",
            "Df Model:                           1                                         \n",
            "Covariance Type:            nonrobust                                         \n",
            "==================================================================================\n",
            "                     coef    std err          t      P>|t|      [0.025      0.975]\n",
            "----------------------------------------------------------------------------------\n",
            "Intercept         11.5114      0.081    142.589      0.000      11.353      11.670\n",
            "debt_to_income     0.0472      0.003     14.291      0.000       0.041       0.054\n",
            "==============================================================================\n",
            "Omnibus:                      995.116   Durbin-Watson:                   1.992\n",
            "Prob(Omnibus):                  0.000   Jarque-Bera (JB):             1332.351\n",
            "Skew:                           0.832   Prob(JB):                    4.83e-290\n",
            "Kurtosis:                       3.660   Cond. No.                         39.9\n",
            "==============================================================================\n",
            "\n",
            "Notes:\n",
            "[1] Standard Errors assume that the covariance matrix of the errors is correctly specified.\n"
          ]
        }
      ]
    },
    {
      "cell_type": "code",
      "source": [
        "# create a regression table for model1\n",
        "table1 = Stargazer([model1])\n",
        "table1.rename_covariates({\"Intercept\": \"Constant\"})\n",
        "table1.custom_columns([\"Homoskedastic SE\"],[1])\n",
        "table1"
      ],
      "metadata": {
        "id": "Sl8xU6UT3jWf",
        "colab": {
          "base_uri": "https://localhost:8080/",
          "height": 352
        },
        "outputId": "08a4ca97-26c9-4d8c-e058-6eac089f29da"
      },
      "execution_count": null,
      "outputs": [
        {
          "output_type": "execute_result",
          "data": {
            "text/plain": [
              "<stargazer.stargazer.Stargazer at 0x7c650d490ad0>"
            ],
            "text/html": [
              "<table style=\"text-align:center\"><tr><td colspan=\"2\" style=\"border-bottom: 1px solid black\"></td></tr>\n",
              "<tr><td style=\"text-align:left\"></td><td colspan=\"1\"><em>Dependent variable: interest_rate</em></td></tr><tr><td style=\"text-align:left\"></td><tr><td></td><td colspan=\"1\">Homoskedastic SE</td></tr><tr><td style=\"text-align:left\"></td><td>(1)</td></tr>\n",
              "<tr><td colspan=\"2\" style=\"border-bottom: 1px solid black\"></td></tr>\n",
              "\n",
              "<tr><td style=\"text-align:left\">Constant</td><td>11.511<sup>***</sup></td></tr>\n",
              "<tr><td style=\"text-align:left\"></td><td>(0.081)</td></tr>\n",
              "<tr><td style=\"text-align:left\">debt_to_income</td><td>0.047<sup>***</sup></td></tr>\n",
              "<tr><td style=\"text-align:left\"></td><td>(0.003)</td></tr>\n",
              "\n",
              "<td colspan=\"2\" style=\"border-bottom: 1px solid black\"></td></tr>\n",
              "<tr><td style=\"text-align: left\">Observations</td><td>9976</td></tr><tr><td style=\"text-align: left\">R<sup>2</sup></td><td>0.020</td></tr><tr><td style=\"text-align: left\">Adjusted R<sup>2</sup></td><td>0.020</td></tr><tr><td style=\"text-align: left\">Residual Std. Error</td><td>4.948 (df=9974)</td></tr><tr><td style=\"text-align: left\">F Statistic</td><td>204.233<sup>***</sup> (df=1; 9974)</td></tr>\n",
              "<tr><td colspan=\"2\" style=\"border-bottom: 1px solid black\"></td></tr><tr><td style=\"text-align: left\">Note:</td><td colspan=\"1\" style=\"text-align: right\"><sup>*</sup>p&lt;0.1; <sup>**</sup>p&lt;0.05; <sup>***</sup>p&lt;0.01</td></tr></table>"
            ]
          },
          "metadata": {},
          "execution_count": 32
        }
      ]
    },
    {
      "cell_type": "code",
      "source": [
        "html = table1.render_html()\n",
        "with open(\"my_regression_table.html\", \"w\") as f:\n",
        "     f.write(html)\n",
        "\n",
        "#open('lin_reg.html','w').write(table.render_html())"
      ],
      "metadata": {
        "id": "OQSVkMcf5tsm"
      },
      "execution_count": null,
      "outputs": []
    },
    {
      "cell_type": "markdown",
      "source": [
        "### b. Model 2: Simple Linear Regression.\n",
        " ### Estimate:\n",
        "###interest rate = β0 + β1 bankruptcy dummy + ε\n",
        "###• Interpret the coefficient β1 in the model\n",
        "###• Test H0 : β1 = 0 at α = 0.01, 0.05, 0.1 significance levels"
      ],
      "metadata": {
        "id": "XywazH-xYojs"
      }
    },
    {
      "cell_type": "code",
      "source": [
        "# create bankruptcy_dummy\n",
        "clean_df['bankruptcy_dummy'] = np.where(clean_df['public_record_bankrupt'] >= 1,1,0)"
      ],
      "metadata": {
        "id": "9YY6nBFIY0Mi"
      },
      "execution_count": null,
      "outputs": []
    },
    {
      "cell_type": "code",
      "source": [
        "model2 = smf.ols('interest_rate ~ bankruptcy_dummy', data=clean_df).fit()\n",
        "print(model2.summary())"
      ],
      "metadata": {
        "id": "yzgskHQWZHPl",
        "colab": {
          "base_uri": "https://localhost:8080/"
        },
        "outputId": "1b9b85b1-2278-4239-f5a2-d1e3c43f0443"
      },
      "execution_count": null,
      "outputs": [
        {
          "output_type": "stream",
          "name": "stdout",
          "text": [
            "                            OLS Regression Results                            \n",
            "==============================================================================\n",
            "Dep. Variable:          interest_rate   R-squared:                       0.002\n",
            "Model:                            OLS   Adj. R-squared:                  0.002\n",
            "Method:                 Least Squares   F-statistic:                     23.22\n",
            "Date:                Thu, 22 May 2025   Prob (F-statistic):           1.47e-06\n",
            "Time:                        15:04:17   Log-Likelihood:                -30274.\n",
            "No. Observations:               10000   AIC:                         6.055e+04\n",
            "Df Residuals:                    9998   BIC:                         6.057e+04\n",
            "Df Model:                           1                                         \n",
            "Covariance Type:            nonrobust                                         \n",
            "====================================================================================\n",
            "                       coef    std err          t      P>|t|      [0.025      0.975]\n",
            "------------------------------------------------------------------------------------\n",
            "Intercept           12.3380      0.053    231.490      0.000      12.234      12.442\n",
            "bankruptcy_dummy     0.7368      0.153      4.819      0.000       0.437       1.037\n",
            "==============================================================================\n",
            "Omnibus:                     1043.269   Durbin-Watson:                   1.992\n",
            "Prob(Omnibus):                  0.000   Jarque-Bera (JB):             1402.913\n",
            "Skew:                           0.868   Prob(JB):                    2.30e-305\n",
            "Kurtosis:                       3.594   Cond. No.                         3.11\n",
            "==============================================================================\n",
            "\n",
            "Notes:\n",
            "[1] Standard Errors assume that the covariance matrix of the errors is correctly specified.\n"
          ]
        }
      ]
    },
    {
      "cell_type": "code",
      "source": [
        "# create a regression table for model2\n",
        "table2 = Stargazer([model2])\n",
        "table2.rename_covariates({\"Intercept\": \"Constant\"})\n",
        "table2.custom_columns([\"Homoskedastic SE\"],[1])\n",
        "table2"
      ],
      "metadata": {
        "colab": {
          "base_uri": "https://localhost:8080/",
          "height": 352
        },
        "id": "1TEB86MfGKAM",
        "outputId": "e6d18ff7-66ad-4f72-9e96-6207bdfd423a"
      },
      "execution_count": null,
      "outputs": [
        {
          "output_type": "execute_result",
          "data": {
            "text/plain": [
              "<stargazer.stargazer.Stargazer at 0x7c65086d1850>"
            ],
            "text/html": [
              "<table style=\"text-align:center\"><tr><td colspan=\"2\" style=\"border-bottom: 1px solid black\"></td></tr>\n",
              "<tr><td style=\"text-align:left\"></td><td colspan=\"1\"><em>Dependent variable: interest_rate</em></td></tr><tr><td style=\"text-align:left\"></td><tr><td></td><td colspan=\"1\">Homoskedastic SE</td></tr><tr><td style=\"text-align:left\"></td><td>(1)</td></tr>\n",
              "<tr><td colspan=\"2\" style=\"border-bottom: 1px solid black\"></td></tr>\n",
              "\n",
              "<tr><td style=\"text-align:left\">Constant</td><td>12.338<sup>***</sup></td></tr>\n",
              "<tr><td style=\"text-align:left\"></td><td>(0.053)</td></tr>\n",
              "<tr><td style=\"text-align:left\">bankruptcy_dummy</td><td>0.737<sup>***</sup></td></tr>\n",
              "<tr><td style=\"text-align:left\"></td><td>(0.153)</td></tr>\n",
              "\n",
              "<td colspan=\"2\" style=\"border-bottom: 1px solid black\"></td></tr>\n",
              "<tr><td style=\"text-align: left\">Observations</td><td>10000</td></tr><tr><td style=\"text-align: left\">R<sup>2</sup></td><td>0.002</td></tr><tr><td style=\"text-align: left\">Adjusted R<sup>2</sup></td><td>0.002</td></tr><tr><td style=\"text-align: left\">Residual Std. Error</td><td>4.996 (df=9998)</td></tr><tr><td style=\"text-align: left\">F Statistic</td><td>23.218<sup>***</sup> (df=1; 9998)</td></tr>\n",
              "<tr><td colspan=\"2\" style=\"border-bottom: 1px solid black\"></td></tr><tr><td style=\"text-align: left\">Note:</td><td colspan=\"1\" style=\"text-align: right\"><sup>*</sup>p&lt;0.1; <sup>**</sup>p&lt;0.05; <sup>***</sup>p&lt;0.01</td></tr></table>"
            ]
          },
          "metadata": {},
          "execution_count": 36
        }
      ]
    },
    {
      "cell_type": "code",
      "source": [
        "html = table2.render_html()\n",
        "with open(\"my_regression_table.html\", \"w\") as f:\n",
        "     f.write(html)\n",
        "\n",
        "#open('lin_reg.html','w').write(table.render_html())"
      ],
      "metadata": {
        "id": "59p08rB3GdQx"
      },
      "execution_count": null,
      "outputs": []
    },
    {
      "cell_type": "markdown",
      "source": [
        "### c. Multiple Linear Regression.\n",
        "###Create dummy variables for verified income (specify reference category)\n",
        "###• Estimate:\n",
        "###interest rate = β0 + β1D1 + β2D2 + ε\n",
        "###where D1, D2 are dummy variables for verif ied income\n",
        "###• Compute the average interest rate for borrowers whose income source and amount are both unverified\n",
        "###• Interpret coefficients"
      ],
      "metadata": {
        "id": "la_aa48OZbaC"
      }
    },
    {
      "cell_type": "code",
      "source": [
        "# check unique variables for verified income\n",
        "clean_df['verified_income'].unique()"
      ],
      "metadata": {
        "id": "lkoNLxozZhWu",
        "colab": {
          "base_uri": "https://localhost:8080/"
        },
        "outputId": "b90371cf-be7d-4b05-a4b8-af590c031081"
      },
      "execution_count": null,
      "outputs": [
        {
          "output_type": "execute_result",
          "data": {
            "text/plain": [
              "array(['Verified', 'Not Verified', 'Source Verified'], dtype=object)"
            ]
          },
          "metadata": {},
          "execution_count": 38
        }
      ]
    },
    {
      "cell_type": "code",
      "source": [
        "model3 = smf.ols('interest_rate ~ C(verified_income, Treatment(reference=\"Not Verified\"))', data=clean_df).fit()\n",
        "print(model3.summary())"
      ],
      "metadata": {
        "id": "LDTyTE2NZtwv",
        "colab": {
          "base_uri": "https://localhost:8080/"
        },
        "outputId": "b384472a-6b00-40f0-ef62-a522774f677d"
      },
      "execution_count": null,
      "outputs": [
        {
          "output_type": "stream",
          "name": "stdout",
          "text": [
            "                            OLS Regression Results                            \n",
            "==============================================================================\n",
            "Dep. Variable:          interest_rate   R-squared:                       0.059\n",
            "Model:                            OLS   Adj. R-squared:                  0.059\n",
            "Method:                 Least Squares   F-statistic:                     315.9\n",
            "Date:                Thu, 22 May 2025   Prob (F-statistic):          8.92e-134\n",
            "Time:                        15:04:17   Log-Likelihood:                -29979.\n",
            "No. Observations:               10000   AIC:                         5.996e+04\n",
            "Df Residuals:                    9997   BIC:                         5.999e+04\n",
            "Df Model:                           2                                         \n",
            "Covariance Type:            nonrobust                                         \n",
            "==============================================================================================================================================\n",
            "                                                                                 coef    std err          t      P>|t|      [0.025      0.975]\n",
            "----------------------------------------------------------------------------------------------------------------------------------------------\n",
            "Intercept                                                                     11.0995      0.081    137.180      0.000      10.941      11.258\n",
            "C(verified_income, Treatment(reference=\"Not Verified\"))[T.Source Verified]     1.4160      0.111     12.787      0.000       1.199       1.633\n",
            "C(verified_income, Treatment(reference=\"Not Verified\"))[T.Verified]            3.2543      0.130     25.091      0.000       3.000       3.509\n",
            "==============================================================================\n",
            "Omnibus:                     1006.206   Durbin-Watson:                   1.993\n",
            "Prob(Omnibus):                  0.000   Jarque-Bera (JB):             1353.013\n",
            "Skew:                           0.834   Prob(JB):                    1.57e-294\n",
            "Kurtosis:                       3.681   Cond. No.                         3.71\n",
            "==============================================================================\n",
            "\n",
            "Notes:\n",
            "[1] Standard Errors assume that the covariance matrix of the errors is correctly specified.\n"
          ]
        }
      ]
    },
    {
      "cell_type": "code",
      "source": [
        "# create a regression table for model3\n",
        "table3 = Stargazer([model3])\n",
        "table3.rename_covariates({\"Intercept\": \"Constant\"})\n",
        "table3.custom_columns([\"Homoskedastic SE\"],[1])\n",
        "table3"
      ],
      "metadata": {
        "colab": {
          "base_uri": "https://localhost:8080/",
          "height": 397
        },
        "id": "PIB7CwJzNm6W",
        "outputId": "b3a4ebd9-1426-4b05-f75e-a1bb14489b43"
      },
      "execution_count": null,
      "outputs": [
        {
          "output_type": "execute_result",
          "data": {
            "text/plain": [
              "<stargazer.stargazer.Stargazer at 0x7c650d5709d0>"
            ],
            "text/html": [
              "<table style=\"text-align:center\"><tr><td colspan=\"2\" style=\"border-bottom: 1px solid black\"></td></tr>\n",
              "<tr><td style=\"text-align:left\"></td><td colspan=\"1\"><em>Dependent variable: interest_rate</em></td></tr><tr><td style=\"text-align:left\"></td><tr><td></td><td colspan=\"1\">Homoskedastic SE</td></tr><tr><td style=\"text-align:left\"></td><td>(1)</td></tr>\n",
              "<tr><td colspan=\"2\" style=\"border-bottom: 1px solid black\"></td></tr>\n",
              "\n",
              "<tr><td style=\"text-align:left\">C(verified_income, Treatment(reference=\"Not Verified\"))[T.Source Verified]</td><td>1.416<sup>***</sup></td></tr>\n",
              "<tr><td style=\"text-align:left\"></td><td>(0.111)</td></tr>\n",
              "<tr><td style=\"text-align:left\">C(verified_income, Treatment(reference=\"Not Verified\"))[T.Verified]</td><td>3.254<sup>***</sup></td></tr>\n",
              "<tr><td style=\"text-align:left\"></td><td>(0.130)</td></tr>\n",
              "<tr><td style=\"text-align:left\">Constant</td><td>11.099<sup>***</sup></td></tr>\n",
              "<tr><td style=\"text-align:left\"></td><td>(0.081)</td></tr>\n",
              "\n",
              "<td colspan=\"2\" style=\"border-bottom: 1px solid black\"></td></tr>\n",
              "<tr><td style=\"text-align: left\">Observations</td><td>10000</td></tr><tr><td style=\"text-align: left\">R<sup>2</sup></td><td>0.059</td></tr><tr><td style=\"text-align: left\">Adjusted R<sup>2</sup></td><td>0.059</td></tr><tr><td style=\"text-align: left\">Residual Std. Error</td><td>4.851 (df=9997)</td></tr><tr><td style=\"text-align: left\">F Statistic</td><td>315.941<sup>***</sup> (df=2; 9997)</td></tr>\n",
              "<tr><td colspan=\"2\" style=\"border-bottom: 1px solid black\"></td></tr><tr><td style=\"text-align: left\">Note:</td><td colspan=\"1\" style=\"text-align: right\"><sup>*</sup>p&lt;0.1; <sup>**</sup>p&lt;0.05; <sup>***</sup>p&lt;0.01</td></tr></table>"
            ]
          },
          "metadata": {},
          "execution_count": 40
        }
      ]
    },
    {
      "cell_type": "code",
      "source": [
        "html = table3.render_html()\n",
        "with open(\"my_regression_table.html\", \"w\") as f:\n",
        "     f.write(html)\n",
        "\n",
        "#open('lin_reg.html','w').write(table.render_html())"
      ],
      "metadata": {
        "id": "re_D337rYqGg"
      },
      "execution_count": null,
      "outputs": []
    },
    {
      "cell_type": "markdown",
      "source": [
        "### d. Multiple Linear Regression.\n",
        "###Estimate:\n",
        "###interest rate = β0 + β1 debt to income + β2 credit util + β3 bankruptcy dummy + ε\n",
        "###• Compare with Model 1 and Model 2 results.\n",
        "###• Interpret coefficients"
      ],
      "metadata": {
        "id": "kNb5AVoBZ3r7"
      }
    },
    {
      "cell_type": "code",
      "source": [
        "# create credit_util\n",
        "clean_df['credit_util'] = np.where(clean_df['total_credit_limit'] == 0,0,clean_df['total_credit_utilized'] / clean_df['total_credit_limit'])"
      ],
      "metadata": {
        "id": "ogmLyse8aaGV"
      },
      "execution_count": null,
      "outputs": []
    },
    {
      "cell_type": "code",
      "source": [
        "model4 = smf.ols('interest_rate ~ debt_to_income + credit_util + bankruptcy_dummy', data=clean_df).fit()\n",
        "print(model4.summary())"
      ],
      "metadata": {
        "id": "9FBPK46jZ8-_",
        "colab": {
          "base_uri": "https://localhost:8080/"
        },
        "outputId": "2a25bb42-e878-41bd-a88d-ae7335e2e8e6"
      },
      "execution_count": null,
      "outputs": [
        {
          "output_type": "stream",
          "name": "stdout",
          "text": [
            "                            OLS Regression Results                            \n",
            "==============================================================================\n",
            "Dep. Variable:          interest_rate   R-squared:                       0.078\n",
            "Model:                            OLS   Adj. R-squared:                  0.077\n",
            "Method:                 Least Squares   F-statistic:                     279.9\n",
            "Date:                Thu, 22 May 2025   Prob (F-statistic):          1.85e-174\n",
            "Time:                        15:04:17   Log-Likelihood:                -29803.\n",
            "No. Observations:                9976   AIC:                         5.961e+04\n",
            "Df Residuals:                    9972   BIC:                         5.964e+04\n",
            "Df Model:                           3                                         \n",
            "Covariance Type:            nonrobust                                         \n",
            "====================================================================================\n",
            "                       coef    std err          t      P>|t|      [0.025      0.975]\n",
            "------------------------------------------------------------------------------------\n",
            "Intercept            9.8708      0.102     96.427      0.000       9.670      10.071\n",
            "debt_to_income       0.0365      0.003     11.282      0.000       0.030       0.043\n",
            "credit_util          4.4113      0.180     24.480      0.000       4.058       4.765\n",
            "bankruptcy_dummy     0.5725      0.147      3.890      0.000       0.284       0.861\n",
            "==============================================================================\n",
            "Omnibus:                     1135.560   Durbin-Watson:                   1.983\n",
            "Prob(Omnibus):                  0.000   Jarque-Bera (JB):             1598.398\n",
            "Skew:                           0.889   Prob(JB):                         0.00\n",
            "Kurtosis:                       3.827   Cond. No.                         98.4\n",
            "==============================================================================\n",
            "\n",
            "Notes:\n",
            "[1] Standard Errors assume that the covariance matrix of the errors is correctly specified.\n"
          ]
        }
      ]
    },
    {
      "cell_type": "code",
      "source": [
        "# create a regression table for model 4\n",
        "table4 = Stargazer([model4])\n",
        "table4.rename_covariates({\"Intercept\": \"Constant\"})\n",
        "table4.custom_columns([\"Homoskedastic SE\"],[1])\n",
        "table4"
      ],
      "metadata": {
        "colab": {
          "base_uri": "https://localhost:8080/",
          "height": 441
        },
        "id": "6bAoMg-fgrQh",
        "outputId": "69e976be-a3a1-4548-8d7c-eae094e32fe2"
      },
      "execution_count": null,
      "outputs": [
        {
          "output_type": "execute_result",
          "data": {
            "text/plain": [
              "<stargazer.stargazer.Stargazer at 0x7c650772e710>"
            ],
            "text/html": [
              "<table style=\"text-align:center\"><tr><td colspan=\"2\" style=\"border-bottom: 1px solid black\"></td></tr>\n",
              "<tr><td style=\"text-align:left\"></td><td colspan=\"1\"><em>Dependent variable: interest_rate</em></td></tr><tr><td style=\"text-align:left\"></td><tr><td></td><td colspan=\"1\">Homoskedastic SE</td></tr><tr><td style=\"text-align:left\"></td><td>(1)</td></tr>\n",
              "<tr><td colspan=\"2\" style=\"border-bottom: 1px solid black\"></td></tr>\n",
              "\n",
              "<tr><td style=\"text-align:left\">Constant</td><td>9.871<sup>***</sup></td></tr>\n",
              "<tr><td style=\"text-align:left\"></td><td>(0.102)</td></tr>\n",
              "<tr><td style=\"text-align:left\">bankruptcy_dummy</td><td>0.573<sup>***</sup></td></tr>\n",
              "<tr><td style=\"text-align:left\"></td><td>(0.147)</td></tr>\n",
              "<tr><td style=\"text-align:left\">credit_util</td><td>4.411<sup>***</sup></td></tr>\n",
              "<tr><td style=\"text-align:left\"></td><td>(0.180)</td></tr>\n",
              "<tr><td style=\"text-align:left\">debt_to_income</td><td>0.036<sup>***</sup></td></tr>\n",
              "<tr><td style=\"text-align:left\"></td><td>(0.003)</td></tr>\n",
              "\n",
              "<td colspan=\"2\" style=\"border-bottom: 1px solid black\"></td></tr>\n",
              "<tr><td style=\"text-align: left\">Observations</td><td>9976</td></tr><tr><td style=\"text-align: left\">R<sup>2</sup></td><td>0.078</td></tr><tr><td style=\"text-align: left\">Adjusted R<sup>2</sup></td><td>0.077</td></tr><tr><td style=\"text-align: left\">Residual Std. Error</td><td>4.801 (df=9972)</td></tr><tr><td style=\"text-align: left\">F Statistic</td><td>279.922<sup>***</sup> (df=3; 9972)</td></tr>\n",
              "<tr><td colspan=\"2\" style=\"border-bottom: 1px solid black\"></td></tr><tr><td style=\"text-align: left\">Note:</td><td colspan=\"1\" style=\"text-align: right\"><sup>*</sup>p&lt;0.1; <sup>**</sup>p&lt;0.05; <sup>***</sup>p&lt;0.01</td></tr></table>"
            ]
          },
          "metadata": {},
          "execution_count": 44
        }
      ]
    },
    {
      "cell_type": "code",
      "source": [
        "html = table4.render_html()\n",
        "with open(\"my_regression_table.html\", \"w\") as f:\n",
        "     f.write(html)\n",
        "\n",
        "#open('lin_reg.html','w').write(table.render_html())"
      ],
      "metadata": {
        "id": "ippzQWypgxe9"
      },
      "execution_count": null,
      "outputs": []
    },
    {
      "cell_type": "code",
      "source": [
        "# create a table for model 1, model 2 and model 4.\n",
        "\n",
        "table = Stargazer([model1, model2, model4])\n",
        "table.rename_covariates({\"Intercept\": \"Constant\"})\n",
        "table.custom_columns([\"Model 1\", \"Model 2\", \"Model 3\"], [1, 1, 1])\n",
        "table"
      ],
      "metadata": {
        "colab": {
          "base_uri": "https://localhost:8080/",
          "height": 441
        },
        "id": "DE3be4ZJg4YZ",
        "outputId": "85247b21-9dd6-4b88-c020-d190a3c51ae1"
      },
      "execution_count": null,
      "outputs": [
        {
          "output_type": "execute_result",
          "data": {
            "text/plain": [
              "<stargazer.stargazer.Stargazer at 0x7c65077d3bd0>"
            ],
            "text/html": [
              "<table style=\"text-align:center\"><tr><td colspan=\"4\" style=\"border-bottom: 1px solid black\"></td></tr>\n",
              "<tr><td style=\"text-align:left\"></td><td colspan=\"3\"><em>Dependent variable: interest_rate</em></td></tr><tr><td style=\"text-align:left\"></td><tr><td></td><td colspan=\"1\">Model 1</td><td colspan=\"1\">Model 2</td><td colspan=\"1\">Model 3</td></tr><tr><td style=\"text-align:left\"></td><td>(1)</td><td>(2)</td><td>(3)</td></tr>\n",
              "<tr><td colspan=\"4\" style=\"border-bottom: 1px solid black\"></td></tr>\n",
              "\n",
              "<tr><td style=\"text-align:left\">Constant</td><td>11.511<sup>***</sup></td><td>12.338<sup>***</sup></td><td>9.871<sup>***</sup></td></tr>\n",
              "<tr><td style=\"text-align:left\"></td><td>(0.081)</td><td>(0.053)</td><td>(0.102)</td></tr>\n",
              "<tr><td style=\"text-align:left\">bankruptcy_dummy</td><td></td><td>0.737<sup>***</sup></td><td>0.573<sup>***</sup></td></tr>\n",
              "<tr><td style=\"text-align:left\"></td><td></td><td>(0.153)</td><td>(0.147)</td></tr>\n",
              "<tr><td style=\"text-align:left\">credit_util</td><td></td><td></td><td>4.411<sup>***</sup></td></tr>\n",
              "<tr><td style=\"text-align:left\"></td><td></td><td></td><td>(0.180)</td></tr>\n",
              "<tr><td style=\"text-align:left\">debt_to_income</td><td>0.047<sup>***</sup></td><td></td><td>0.036<sup>***</sup></td></tr>\n",
              "<tr><td style=\"text-align:left\"></td><td>(0.003)</td><td></td><td>(0.003)</td></tr>\n",
              "\n",
              "<td colspan=\"4\" style=\"border-bottom: 1px solid black\"></td></tr>\n",
              "<tr><td style=\"text-align: left\">Observations</td><td>9976</td><td>10000</td><td>9976</td></tr><tr><td style=\"text-align: left\">R<sup>2</sup></td><td>0.020</td><td>0.002</td><td>0.078</td></tr><tr><td style=\"text-align: left\">Adjusted R<sup>2</sup></td><td>0.020</td><td>0.002</td><td>0.077</td></tr><tr><td style=\"text-align: left\">Residual Std. Error</td><td>4.948 (df=9974)</td><td>4.996 (df=9998)</td><td>4.801 (df=9972)</td></tr><tr><td style=\"text-align: left\">F Statistic</td><td>204.233<sup>***</sup> (df=1; 9974)</td><td>23.218<sup>***</sup> (df=1; 9998)</td><td>279.922<sup>***</sup> (df=3; 9972)</td></tr>\n",
              "<tr><td colspan=\"4\" style=\"border-bottom: 1px solid black\"></td></tr><tr><td style=\"text-align: left\">Note:</td><td colspan=\"3\" style=\"text-align: right\"><sup>*</sup>p&lt;0.1; <sup>**</sup>p&lt;0.05; <sup>***</sup>p&lt;0.01</td></tr></table>"
            ]
          },
          "metadata": {},
          "execution_count": 46
        }
      ]
    },
    {
      "cell_type": "code",
      "source": [
        "html = table.render_html()\n",
        "with open(\"my_regression_table.html\", \"w\") as f:\n",
        "     f.write(html)\n",
        "\n",
        "#open('lin_reg.html','w').write(table.render_html())"
      ],
      "metadata": {
        "id": "Ow00owfEhE-q"
      },
      "execution_count": null,
      "outputs": []
    },
    {
      "cell_type": "markdown",
      "source": [
        "### e. Enhanced Multiple Linear Regression.\n",
        "###• Add these variables to Model 4:\n",
        "###annual income, loan amount, term, grade, emp length, homeownership, loan purpose, credit checks\n",
        "###• Create appropriate dummy variables (k − 1 for k categories)\n",
        "###• State reference categories\n",
        "###• Use term as dummy variable\n",
        "###• Compute and report the residuals for the first five observations"
      ],
      "metadata": {
        "id": "2-xTV8eXah75"
      }
    },
    {
      "cell_type": "code",
      "source": [
        "clean_df['credit_util'] = clean_df['total_credit_utilized'] / clean_df['total_credit_limit'].replace(0, 1)\n",
        "clean_df['bankruptcy_dummy'] = (clean_df['public_record_bankrupt'] >= 1).astype(int)\n"
      ],
      "metadata": {
        "id": "au7WfbnpasLY"
      },
      "execution_count": null,
      "outputs": []
    },
    {
      "cell_type": "code",
      "source": [
        "cat_vars = ['term', 'grade', 'homeownership', 'loan_purpose']\n",
        "df_model5 = pd.get_dummies(clean_df, columns=cat_vars, drop_first=True)"
      ],
      "metadata": {
        "id": "WrZ1eQjSYLuz"
      },
      "execution_count": null,
      "outputs": []
    },
    {
      "cell_type": "code",
      "source": [
        "predictors = [\n",
        "    'debt_to_income', 'credit_util', 'bankruptcy_dummy',\n",
        "    'annual_income', 'loan_amount', 'emp_length', 'credit_checks'\n",
        "]"
      ],
      "metadata": {
        "id": "IXdkbx5X7koX"
      },
      "execution_count": null,
      "outputs": []
    },
    {
      "cell_type": "code",
      "source": [
        "dummy_cols = [col for col in df_model5.columns if any(prefix in col for prefix in ['term_', 'grade_', 'homeownership_', 'loan_purpose_'])]\n",
        "X_cols = predictors + dummy_cols"
      ],
      "metadata": {
        "id": "el8caUuY9COx"
      },
      "execution_count": null,
      "outputs": []
    },
    {
      "cell_type": "code",
      "source": [
        "df_model5_clean = df_model5.dropna(subset=X_cols + ['interest_rate'])"
      ],
      "metadata": {
        "id": "BDlEg4z99IIl"
      },
      "execution_count": null,
      "outputs": []
    },
    {
      "cell_type": "code",
      "source": [
        "X = sm.add_constant(df_model5_clean[X_cols].astype(float))\n",
        "y = df_model5_clean['interest_rate'].astype(float)"
      ],
      "metadata": {
        "id": "LEweNZO49-r1"
      },
      "execution_count": null,
      "outputs": []
    },
    {
      "cell_type": "code",
      "source": [
        "model5 = sm.OLS(y, X).fit()"
      ],
      "metadata": {
        "id": "cksylVsz9zE2"
      },
      "execution_count": null,
      "outputs": []
    },
    {
      "cell_type": "code",
      "source": [
        "print(model5.summary())\n",
        "print(\"\\nFirst 5 residuals:\")\n",
        "print(model5.resid[:5])"
      ],
      "metadata": {
        "colab": {
          "base_uri": "https://localhost:8080/"
        },
        "id": "fioGiPef93Ta",
        "outputId": "f9c0f80a-fe61-446b-ee63-54304cbd351a"
      },
      "execution_count": null,
      "outputs": [
        {
          "output_type": "stream",
          "name": "stdout",
          "text": [
            "                            OLS Regression Results                            \n",
            "==============================================================================\n",
            "Dep. Variable:          interest_rate   R-squared:                       0.952\n",
            "Model:                            OLS   Adj. R-squared:                  0.952\n",
            "Method:                 Least Squares   F-statistic:                     6723.\n",
            "Date:                Thu, 22 May 2025   Prob (F-statistic):               0.00\n",
            "Time:                        15:04:17   Log-Likelihood:                -13874.\n",
            "No. Observations:                9182   AIC:                         2.780e+04\n",
            "Df Residuals:                    9154   BIC:                         2.800e+04\n",
            "Df Model:                          27                                         \n",
            "Covariance Type:            nonrobust                                         \n",
            "===================================================================================================\n",
            "                                      coef    std err          t      P>|t|      [0.025      0.975]\n",
            "---------------------------------------------------------------------------------------------------\n",
            "const                               6.6089      0.110     60.106      0.000       6.393       6.824\n",
            "debt_to_income                      0.0029      0.001      3.440      0.001       0.001       0.005\n",
            "credit_util                         0.3289      0.052      6.281      0.000       0.226       0.432\n",
            "bankruptcy_dummy                    0.0238      0.036      0.658      0.511      -0.047       0.095\n",
            "annual_income                   -4.185e-07   1.92e-07     -2.175      0.030   -7.96e-07   -4.13e-08\n",
            "loan_amount                     -2.515e-06    1.3e-06     -1.939      0.052   -5.06e-06    2.69e-08\n",
            "emp_length                         -0.0007      0.003     -0.217      0.828      -0.007       0.006\n",
            "credit_checks                       0.0316      0.005      6.384      0.000       0.022       0.041\n",
            "term_60                             0.1857      0.029      6.336      0.000       0.128       0.243\n",
            "grade_B                             3.6841      0.032    114.206      0.000       3.621       3.747\n",
            "grade_C                             7.2787      0.035    208.496      0.000       7.210       7.347\n",
            "grade_D                            12.1571      0.042    288.487      0.000      12.075      12.240\n",
            "grade_E                            18.1428      0.071    254.914      0.000      18.003      18.282\n",
            "grade_F                            22.3795      0.151    147.937      0.000      22.083      22.676\n",
            "grade_G                            23.7773      0.333     71.326      0.000      23.124      24.431\n",
            "homeownership_OWN                   0.0013      0.038      0.035      0.972      -0.073       0.075\n",
            "homeownership_RENT                  0.0202      0.030      0.665      0.506      -0.039       0.080\n",
            "loan_purpose_credit_card           -0.0557      0.106     -0.528      0.598      -0.263       0.151\n",
            "loan_purpose_debt_consolidation     0.0417      0.104      0.400      0.689      -0.162       0.246\n",
            "loan_purpose_home_improvement      -0.1252      0.112     -1.117      0.264      -0.345       0.095\n",
            "loan_purpose_house                 -0.0313      0.139     -0.226      0.821      -0.303       0.240\n",
            "loan_purpose_major_purchase        -0.0259      0.122     -0.213      0.831      -0.265       0.213\n",
            "loan_purpose_medical                0.0045      0.139      0.033      0.974      -0.268       0.277\n",
            "loan_purpose_moving                -0.0455      0.168     -0.270      0.787      -0.375       0.284\n",
            "loan_purpose_other                  0.0056      0.109      0.051      0.959      -0.209       0.220\n",
            "loan_purpose_renewable_energy       0.3588      0.362      0.991      0.322      -0.351       1.069\n",
            "loan_purpose_small_business         0.0559      0.143      0.390      0.697      -0.225       0.337\n",
            "loan_purpose_vacation               0.1298      0.180      0.720      0.472      -0.224       0.483\n",
            "==============================================================================\n",
            "Omnibus:                      753.630   Durbin-Watson:                   2.013\n",
            "Prob(Omnibus):                  0.000   Jarque-Bera (JB):             4502.849\n",
            "Skew:                          -0.104   Prob(JB):                         0.00\n",
            "Kurtosis:                       6.424   Cond. No.                     3.74e+06\n",
            "==============================================================================\n",
            "\n",
            "Notes:\n",
            "[1] Standard Errors assume that the covariance matrix of the errors is correctly specified.\n",
            "[2] The condition number is large, 3.74e+06. This might indicate that there are\n",
            "strong multicollinearity or other numerical problems.\n",
            "\n",
            "First 5 residuals:\n",
            "0   -0.270227\n",
            "1   -1.422690\n",
            "2   -2.083993\n",
            "3    0.022217\n",
            "4   -0.342447\n",
            "dtype: float64\n"
          ]
        }
      ]
    },
    {
      "cell_type": "code",
      "source": [
        "# create a regression table for model 5\n",
        "table5 = Stargazer([model5])\n",
        "table5.rename_covariates({\"Intercept\": \"Constant\"})\n",
        "table5.custom_columns([\"Homoskedastic SE\"], [1])\n",
        "table5\n"
      ],
      "metadata": {
        "colab": {
          "base_uri": "https://localhost:8080/",
          "height": 1000
        },
        "id": "9iDS5Zq4_HTZ",
        "outputId": "8404931a-07a0-435b-b6a9-c9a6db991c1e"
      },
      "execution_count": null,
      "outputs": [
        {
          "output_type": "execute_result",
          "data": {
            "text/plain": [
              "<stargazer.stargazer.Stargazer at 0x7c6507739850>"
            ],
            "text/html": [
              "<table style=\"text-align:center\"><tr><td colspan=\"2\" style=\"border-bottom: 1px solid black\"></td></tr>\n",
              "<tr><td style=\"text-align:left\"></td><td colspan=\"1\"><em>Dependent variable: interest_rate</em></td></tr><tr><td style=\"text-align:left\"></td><tr><td></td><td colspan=\"1\">Homoskedastic SE</td></tr><tr><td style=\"text-align:left\"></td><td>(1)</td></tr>\n",
              "<tr><td colspan=\"2\" style=\"border-bottom: 1px solid black\"></td></tr>\n",
              "\n",
              "<tr><td style=\"text-align:left\">annual_income</td><td>-0.000<sup>**</sup></td></tr>\n",
              "<tr><td style=\"text-align:left\"></td><td>(0.000)</td></tr>\n",
              "<tr><td style=\"text-align:left\">bankruptcy_dummy</td><td>0.024<sup></sup></td></tr>\n",
              "<tr><td style=\"text-align:left\"></td><td>(0.036)</td></tr>\n",
              "<tr><td style=\"text-align:left\">const</td><td>6.609<sup>***</sup></td></tr>\n",
              "<tr><td style=\"text-align:left\"></td><td>(0.110)</td></tr>\n",
              "<tr><td style=\"text-align:left\">credit_checks</td><td>0.032<sup>***</sup></td></tr>\n",
              "<tr><td style=\"text-align:left\"></td><td>(0.005)</td></tr>\n",
              "<tr><td style=\"text-align:left\">credit_util</td><td>0.329<sup>***</sup></td></tr>\n",
              "<tr><td style=\"text-align:left\"></td><td>(0.052)</td></tr>\n",
              "<tr><td style=\"text-align:left\">debt_to_income</td><td>0.003<sup>***</sup></td></tr>\n",
              "<tr><td style=\"text-align:left\"></td><td>(0.001)</td></tr>\n",
              "<tr><td style=\"text-align:left\">emp_length</td><td>-0.001<sup></sup></td></tr>\n",
              "<tr><td style=\"text-align:left\"></td><td>(0.003)</td></tr>\n",
              "<tr><td style=\"text-align:left\">grade_B</td><td>3.684<sup>***</sup></td></tr>\n",
              "<tr><td style=\"text-align:left\"></td><td>(0.032)</td></tr>\n",
              "<tr><td style=\"text-align:left\">grade_C</td><td>7.279<sup>***</sup></td></tr>\n",
              "<tr><td style=\"text-align:left\"></td><td>(0.035)</td></tr>\n",
              "<tr><td style=\"text-align:left\">grade_D</td><td>12.157<sup>***</sup></td></tr>\n",
              "<tr><td style=\"text-align:left\"></td><td>(0.042)</td></tr>\n",
              "<tr><td style=\"text-align:left\">grade_E</td><td>18.143<sup>***</sup></td></tr>\n",
              "<tr><td style=\"text-align:left\"></td><td>(0.071)</td></tr>\n",
              "<tr><td style=\"text-align:left\">grade_F</td><td>22.379<sup>***</sup></td></tr>\n",
              "<tr><td style=\"text-align:left\"></td><td>(0.151)</td></tr>\n",
              "<tr><td style=\"text-align:left\">grade_G</td><td>23.777<sup>***</sup></td></tr>\n",
              "<tr><td style=\"text-align:left\"></td><td>(0.333)</td></tr>\n",
              "<tr><td style=\"text-align:left\">homeownership_OWN</td><td>0.001<sup></sup></td></tr>\n",
              "<tr><td style=\"text-align:left\"></td><td>(0.038)</td></tr>\n",
              "<tr><td style=\"text-align:left\">homeownership_RENT</td><td>0.020<sup></sup></td></tr>\n",
              "<tr><td style=\"text-align:left\"></td><td>(0.030)</td></tr>\n",
              "<tr><td style=\"text-align:left\">loan_amount</td><td>-0.000<sup>*</sup></td></tr>\n",
              "<tr><td style=\"text-align:left\"></td><td>(0.000)</td></tr>\n",
              "<tr><td style=\"text-align:left\">loan_purpose_credit_card</td><td>-0.056<sup></sup></td></tr>\n",
              "<tr><td style=\"text-align:left\"></td><td>(0.106)</td></tr>\n",
              "<tr><td style=\"text-align:left\">loan_purpose_debt_consolidation</td><td>0.042<sup></sup></td></tr>\n",
              "<tr><td style=\"text-align:left\"></td><td>(0.104)</td></tr>\n",
              "<tr><td style=\"text-align:left\">loan_purpose_home_improvement</td><td>-0.125<sup></sup></td></tr>\n",
              "<tr><td style=\"text-align:left\"></td><td>(0.112)</td></tr>\n",
              "<tr><td style=\"text-align:left\">loan_purpose_house</td><td>-0.031<sup></sup></td></tr>\n",
              "<tr><td style=\"text-align:left\"></td><td>(0.139)</td></tr>\n",
              "<tr><td style=\"text-align:left\">loan_purpose_major_purchase</td><td>-0.026<sup></sup></td></tr>\n",
              "<tr><td style=\"text-align:left\"></td><td>(0.122)</td></tr>\n",
              "<tr><td style=\"text-align:left\">loan_purpose_medical</td><td>0.005<sup></sup></td></tr>\n",
              "<tr><td style=\"text-align:left\"></td><td>(0.139)</td></tr>\n",
              "<tr><td style=\"text-align:left\">loan_purpose_moving</td><td>-0.045<sup></sup></td></tr>\n",
              "<tr><td style=\"text-align:left\"></td><td>(0.168)</td></tr>\n",
              "<tr><td style=\"text-align:left\">loan_purpose_other</td><td>0.006<sup></sup></td></tr>\n",
              "<tr><td style=\"text-align:left\"></td><td>(0.109)</td></tr>\n",
              "<tr><td style=\"text-align:left\">loan_purpose_renewable_energy</td><td>0.359<sup></sup></td></tr>\n",
              "<tr><td style=\"text-align:left\"></td><td>(0.362)</td></tr>\n",
              "<tr><td style=\"text-align:left\">loan_purpose_small_business</td><td>0.056<sup></sup></td></tr>\n",
              "<tr><td style=\"text-align:left\"></td><td>(0.143)</td></tr>\n",
              "<tr><td style=\"text-align:left\">loan_purpose_vacation</td><td>0.130<sup></sup></td></tr>\n",
              "<tr><td style=\"text-align:left\"></td><td>(0.180)</td></tr>\n",
              "<tr><td style=\"text-align:left\">term_60</td><td>0.186<sup>***</sup></td></tr>\n",
              "<tr><td style=\"text-align:left\"></td><td>(0.029)</td></tr>\n",
              "\n",
              "<td colspan=\"2\" style=\"border-bottom: 1px solid black\"></td></tr>\n",
              "<tr><td style=\"text-align: left\">Observations</td><td>9182</td></tr><tr><td style=\"text-align: left\">R<sup>2</sup></td><td>0.952</td></tr><tr><td style=\"text-align: left\">Adjusted R<sup>2</sup></td><td>0.952</td></tr><tr><td style=\"text-align: left\">Residual Std. Error</td><td>1.098 (df=9154)</td></tr><tr><td style=\"text-align: left\">F Statistic</td><td>6722.902<sup>***</sup> (df=27; 9154)</td></tr>\n",
              "<tr><td colspan=\"2\" style=\"border-bottom: 1px solid black\"></td></tr><tr><td style=\"text-align: left\">Note:</td><td colspan=\"1\" style=\"text-align: right\"><sup>*</sup>p&lt;0.1; <sup>**</sup>p&lt;0.05; <sup>***</sup>p&lt;0.01</td></tr></table>"
            ]
          },
          "metadata": {},
          "execution_count": 56
        }
      ]
    },
    {
      "cell_type": "code",
      "source": [
        "html = table5.render_html()\n",
        "with open(\"my_regression_table.html\", \"w\") as f:\n",
        "     f.write(html)\n",
        "\n",
        "#open('lin_reg.html','w').write(table.render_html())"
      ],
      "metadata": {
        "id": "8zLerBCEHR0f"
      },
      "execution_count": null,
      "outputs": []
    },
    {
      "cell_type": "code",
      "source": [
        "# predicted values from Model 5\n",
        "predicted = model5.predict()\n",
        "\n",
        "# residuals\n",
        "residuals = model5.resid\n",
        "\n",
        "# print the first 5 residuals\n",
        "print(\"First 5 residuals (actual - predicted):\")\n",
        "print(residuals.head().round(2))\n"
      ],
      "metadata": {
        "colab": {
          "base_uri": "https://localhost:8080/"
        },
        "id": "MIThv9LQ-8yI",
        "outputId": "d76edc8d-4cb5-4370-a604-97a46710e649"
      },
      "execution_count": null,
      "outputs": [
        {
          "output_type": "stream",
          "name": "stdout",
          "text": [
            "First 5 residuals (actual - predicted):\n",
            "0   -0.27\n",
            "1   -1.42\n",
            "2   -2.08\n",
            "3    0.02\n",
            "4   -0.34\n",
            "dtype: float64\n"
          ]
        }
      ]
    },
    {
      "cell_type": "markdown",
      "source": [
        "### 3.2. Result Presentation.\n",
        "###Present all regression results in one table:\n",
        "###• Columns for Models 1-5\n",
        "###• Coefficients with standard errors in parentheses\n",
        "###• Significance levels: * p < 0.1, ** p < 0.05, *** p < 0.01\n",
        "###• R2, number of observations, F-statistics• R2, number of observations, F -statistics\n",
        "\n"
      ],
      "metadata": {
        "id": "G-ePzEjPJ-_c"
      }
    },
    {
      "cell_type": "code",
      "source": [
        "# create table6\n",
        "table6 = Stargazer([model1, model2, model3, model4, model5])\n",
        "table6.rename_covariates({\"Intercept\": \"Constant\"})\n",
        "table6.custom_columns([\"Homoskedastic SE\"], [5])"
      ],
      "metadata": {
        "id": "2gWv-OQjiqqt"
      },
      "execution_count": null,
      "outputs": []
    },
    {
      "cell_type": "code",
      "source": [
        "html_table = table6.render_html()\n",
        "\n",
        "from IPython.core.display import display, HTML\n",
        "display(HTML(html_table))\n",
        "\n",
        "with open(\"regression_table6.html\", \"w\") as f:\n",
        "    f.write(html_table)"
      ],
      "metadata": {
        "colab": {
          "base_uri": "https://localhost:8080/",
          "height": 1000
        },
        "id": "oX7nymrdjLcb",
        "outputId": "6f9bb91d-94bc-48d2-80d3-f7f1f9e9c1be"
      },
      "execution_count": null,
      "outputs": [
        {
          "output_type": "display_data",
          "data": {
            "text/plain": [
              "<IPython.core.display.HTML object>"
            ],
            "text/html": [
              "<table style=\"text-align:center\"><tr><td colspan=\"6\" style=\"border-bottom: 1px solid black\"></td></tr>\n",
              "<tr><td style=\"text-align:left\"></td><td colspan=\"5\"><em>Dependent variable: interest_rate</em></td></tr><tr><td style=\"text-align:left\"></td><tr><td></td><td colspan=\"5\">Homoskedastic SE</td></tr><tr><td style=\"text-align:left\"></td><td>(1)</td><td>(2)</td><td>(3)</td><td>(4)</td><td>(5)</td></tr>\n",
              "<tr><td colspan=\"6\" style=\"border-bottom: 1px solid black\"></td></tr>\n",
              "\n",
              "<tr><td style=\"text-align:left\">C(verified_income, Treatment(reference=\"Not Verified\"))[T.Source Verified]</td><td></td><td></td><td>1.416<sup>***</sup></td><td></td><td></td></tr>\n",
              "<tr><td style=\"text-align:left\"></td><td></td><td></td><td>(0.111)</td><td></td><td></td></tr>\n",
              "<tr><td style=\"text-align:left\">C(verified_income, Treatment(reference=\"Not Verified\"))[T.Verified]</td><td></td><td></td><td>3.254<sup>***</sup></td><td></td><td></td></tr>\n",
              "<tr><td style=\"text-align:left\"></td><td></td><td></td><td>(0.130)</td><td></td><td></td></tr>\n",
              "<tr><td style=\"text-align:left\">Constant</td><td>11.511<sup>***</sup></td><td>12.338<sup>***</sup></td><td>11.099<sup>***</sup></td><td>9.871<sup>***</sup></td><td></td></tr>\n",
              "<tr><td style=\"text-align:left\"></td><td>(0.081)</td><td>(0.053)</td><td>(0.081)</td><td>(0.102)</td><td></td></tr>\n",
              "<tr><td style=\"text-align:left\">annual_income</td><td></td><td></td><td></td><td></td><td>-0.000<sup>**</sup></td></tr>\n",
              "<tr><td style=\"text-align:left\"></td><td></td><td></td><td></td><td></td><td>(0.000)</td></tr>\n",
              "<tr><td style=\"text-align:left\">bankruptcy_dummy</td><td></td><td>0.737<sup>***</sup></td><td></td><td>0.573<sup>***</sup></td><td>0.024<sup></sup></td></tr>\n",
              "<tr><td style=\"text-align:left\"></td><td></td><td>(0.153)</td><td></td><td>(0.147)</td><td>(0.036)</td></tr>\n",
              "<tr><td style=\"text-align:left\">const</td><td></td><td></td><td></td><td></td><td>6.609<sup>***</sup></td></tr>\n",
              "<tr><td style=\"text-align:left\"></td><td></td><td></td><td></td><td></td><td>(0.110)</td></tr>\n",
              "<tr><td style=\"text-align:left\">credit_checks</td><td></td><td></td><td></td><td></td><td>0.032<sup>***</sup></td></tr>\n",
              "<tr><td style=\"text-align:left\"></td><td></td><td></td><td></td><td></td><td>(0.005)</td></tr>\n",
              "<tr><td style=\"text-align:left\">credit_util</td><td></td><td></td><td></td><td>4.411<sup>***</sup></td><td>0.329<sup>***</sup></td></tr>\n",
              "<tr><td style=\"text-align:left\"></td><td></td><td></td><td></td><td>(0.180)</td><td>(0.052)</td></tr>\n",
              "<tr><td style=\"text-align:left\">debt_to_income</td><td>0.047<sup>***</sup></td><td></td><td></td><td>0.036<sup>***</sup></td><td>0.003<sup>***</sup></td></tr>\n",
              "<tr><td style=\"text-align:left\"></td><td>(0.003)</td><td></td><td></td><td>(0.003)</td><td>(0.001)</td></tr>\n",
              "<tr><td style=\"text-align:left\">emp_length</td><td></td><td></td><td></td><td></td><td>-0.001<sup></sup></td></tr>\n",
              "<tr><td style=\"text-align:left\"></td><td></td><td></td><td></td><td></td><td>(0.003)</td></tr>\n",
              "<tr><td style=\"text-align:left\">grade_B</td><td></td><td></td><td></td><td></td><td>3.684<sup>***</sup></td></tr>\n",
              "<tr><td style=\"text-align:left\"></td><td></td><td></td><td></td><td></td><td>(0.032)</td></tr>\n",
              "<tr><td style=\"text-align:left\">grade_C</td><td></td><td></td><td></td><td></td><td>7.279<sup>***</sup></td></tr>\n",
              "<tr><td style=\"text-align:left\"></td><td></td><td></td><td></td><td></td><td>(0.035)</td></tr>\n",
              "<tr><td style=\"text-align:left\">grade_D</td><td></td><td></td><td></td><td></td><td>12.157<sup>***</sup></td></tr>\n",
              "<tr><td style=\"text-align:left\"></td><td></td><td></td><td></td><td></td><td>(0.042)</td></tr>\n",
              "<tr><td style=\"text-align:left\">grade_E</td><td></td><td></td><td></td><td></td><td>18.143<sup>***</sup></td></tr>\n",
              "<tr><td style=\"text-align:left\"></td><td></td><td></td><td></td><td></td><td>(0.071)</td></tr>\n",
              "<tr><td style=\"text-align:left\">grade_F</td><td></td><td></td><td></td><td></td><td>22.379<sup>***</sup></td></tr>\n",
              "<tr><td style=\"text-align:left\"></td><td></td><td></td><td></td><td></td><td>(0.151)</td></tr>\n",
              "<tr><td style=\"text-align:left\">grade_G</td><td></td><td></td><td></td><td></td><td>23.777<sup>***</sup></td></tr>\n",
              "<tr><td style=\"text-align:left\"></td><td></td><td></td><td></td><td></td><td>(0.333)</td></tr>\n",
              "<tr><td style=\"text-align:left\">homeownership_OWN</td><td></td><td></td><td></td><td></td><td>0.001<sup></sup></td></tr>\n",
              "<tr><td style=\"text-align:left\"></td><td></td><td></td><td></td><td></td><td>(0.038)</td></tr>\n",
              "<tr><td style=\"text-align:left\">homeownership_RENT</td><td></td><td></td><td></td><td></td><td>0.020<sup></sup></td></tr>\n",
              "<tr><td style=\"text-align:left\"></td><td></td><td></td><td></td><td></td><td>(0.030)</td></tr>\n",
              "<tr><td style=\"text-align:left\">loan_amount</td><td></td><td></td><td></td><td></td><td>-0.000<sup>*</sup></td></tr>\n",
              "<tr><td style=\"text-align:left\"></td><td></td><td></td><td></td><td></td><td>(0.000)</td></tr>\n",
              "<tr><td style=\"text-align:left\">loan_purpose_credit_card</td><td></td><td></td><td></td><td></td><td>-0.056<sup></sup></td></tr>\n",
              "<tr><td style=\"text-align:left\"></td><td></td><td></td><td></td><td></td><td>(0.106)</td></tr>\n",
              "<tr><td style=\"text-align:left\">loan_purpose_debt_consolidation</td><td></td><td></td><td></td><td></td><td>0.042<sup></sup></td></tr>\n",
              "<tr><td style=\"text-align:left\"></td><td></td><td></td><td></td><td></td><td>(0.104)</td></tr>\n",
              "<tr><td style=\"text-align:left\">loan_purpose_home_improvement</td><td></td><td></td><td></td><td></td><td>-0.125<sup></sup></td></tr>\n",
              "<tr><td style=\"text-align:left\"></td><td></td><td></td><td></td><td></td><td>(0.112)</td></tr>\n",
              "<tr><td style=\"text-align:left\">loan_purpose_house</td><td></td><td></td><td></td><td></td><td>-0.031<sup></sup></td></tr>\n",
              "<tr><td style=\"text-align:left\"></td><td></td><td></td><td></td><td></td><td>(0.139)</td></tr>\n",
              "<tr><td style=\"text-align:left\">loan_purpose_major_purchase</td><td></td><td></td><td></td><td></td><td>-0.026<sup></sup></td></tr>\n",
              "<tr><td style=\"text-align:left\"></td><td></td><td></td><td></td><td></td><td>(0.122)</td></tr>\n",
              "<tr><td style=\"text-align:left\">loan_purpose_medical</td><td></td><td></td><td></td><td></td><td>0.005<sup></sup></td></tr>\n",
              "<tr><td style=\"text-align:left\"></td><td></td><td></td><td></td><td></td><td>(0.139)</td></tr>\n",
              "<tr><td style=\"text-align:left\">loan_purpose_moving</td><td></td><td></td><td></td><td></td><td>-0.045<sup></sup></td></tr>\n",
              "<tr><td style=\"text-align:left\"></td><td></td><td></td><td></td><td></td><td>(0.168)</td></tr>\n",
              "<tr><td style=\"text-align:left\">loan_purpose_other</td><td></td><td></td><td></td><td></td><td>0.006<sup></sup></td></tr>\n",
              "<tr><td style=\"text-align:left\"></td><td></td><td></td><td></td><td></td><td>(0.109)</td></tr>\n",
              "<tr><td style=\"text-align:left\">loan_purpose_renewable_energy</td><td></td><td></td><td></td><td></td><td>0.359<sup></sup></td></tr>\n",
              "<tr><td style=\"text-align:left\"></td><td></td><td></td><td></td><td></td><td>(0.362)</td></tr>\n",
              "<tr><td style=\"text-align:left\">loan_purpose_small_business</td><td></td><td></td><td></td><td></td><td>0.056<sup></sup></td></tr>\n",
              "<tr><td style=\"text-align:left\"></td><td></td><td></td><td></td><td></td><td>(0.143)</td></tr>\n",
              "<tr><td style=\"text-align:left\">loan_purpose_vacation</td><td></td><td></td><td></td><td></td><td>0.130<sup></sup></td></tr>\n",
              "<tr><td style=\"text-align:left\"></td><td></td><td></td><td></td><td></td><td>(0.180)</td></tr>\n",
              "<tr><td style=\"text-align:left\">term_60</td><td></td><td></td><td></td><td></td><td>0.186<sup>***</sup></td></tr>\n",
              "<tr><td style=\"text-align:left\"></td><td></td><td></td><td></td><td></td><td>(0.029)</td></tr>\n",
              "\n",
              "<td colspan=\"6\" style=\"border-bottom: 1px solid black\"></td></tr>\n",
              "<tr><td style=\"text-align: left\">Observations</td><td>9976</td><td>10000</td><td>10000</td><td>9976</td><td>9182</td></tr><tr><td style=\"text-align: left\">R<sup>2</sup></td><td>0.020</td><td>0.002</td><td>0.059</td><td>0.078</td><td>0.952</td></tr><tr><td style=\"text-align: left\">Adjusted R<sup>2</sup></td><td>0.020</td><td>0.002</td><td>0.059</td><td>0.077</td><td>0.952</td></tr><tr><td style=\"text-align: left\">Residual Std. Error</td><td>4.948 (df=9974)</td><td>4.996 (df=9998)</td><td>4.851 (df=9997)</td><td>4.801 (df=9972)</td><td>1.098 (df=9154)</td></tr><tr><td style=\"text-align: left\">F Statistic</td><td>204.233<sup>***</sup> (df=1; 9974)</td><td>23.218<sup>***</sup> (df=1; 9998)</td><td>315.941<sup>***</sup> (df=2; 9997)</td><td>279.922<sup>***</sup> (df=3; 9972)</td><td>6722.902<sup>***</sup> (df=27; 9154)</td></tr>\n",
              "<tr><td colspan=\"6\" style=\"border-bottom: 1px solid black\"></td></tr><tr><td style=\"text-align: left\">Note:</td><td colspan=\"5\" style=\"text-align: right\"><sup>*</sup>p&lt;0.1; <sup>**</sup>p&lt;0.05; <sup>***</sup>p&lt;0.01</td></tr></table>"
            ]
          },
          "metadata": {}
        }
      ]
    }
  ]
}